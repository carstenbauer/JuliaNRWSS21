{
 "cells": [
  {
   "cell_type": "markdown",
   "metadata": {},
   "source": [
    "# Performance optimization exercise 2"
   ]
  },
  {
   "cell_type": "markdown",
   "metadata": {},
   "source": [
    "Optimize the following function."
   ]
  },
  {
   "cell_type": "code",
   "execution_count": 1,
   "metadata": {},
   "outputs": [
    {
     "data": {
      "text/plain": [
       "work! (generic function with 1 method)"
      ]
     },
     "execution_count": 1,
     "metadata": {},
     "output_type": "execute_result"
    }
   ],
   "source": [
    "function work!(A, B, v, N)\n",
    "    val = 0\n",
    "    for i in 1:N\n",
    "        for j in 1:N\n",
    "            val = mod(v[i],256);\n",
    "            A[i,j] = B[i,j]*(sin(val)*sin(val)-cos(val)*cos(val));\n",
    "        end\n",
    "    end\n",
    "end"
   ]
  },
  {
   "cell_type": "markdown",
   "metadata": {},
   "source": [
    "The (fixed) input is given by:"
   ]
  },
  {
   "cell_type": "code",
   "execution_count": 2,
   "metadata": {},
   "outputs": [],
   "source": [
    "N = 4000\n",
    "A = zeros(N,N)\n",
    "B = rand(N,N)\n",
    "v = rand(Int, N);\n",
    "\n",
    "work!(A,B,v,N)"
   ]
  },
  {
   "cell_type": "markdown",
   "metadata": {},
   "source": [
    "You can benchmark with the following code snippet. The larger the Mega-iterations per second the better!"
   ]
  },
  {
   "cell_type": "code",
   "execution_count": 3,
   "metadata": {},
   "outputs": [
    {
     "name": "stdout",
     "output_type": "stream",
     "text": [
      "Performance: 20.913873012314628 MIt/s\n"
     ]
    }
   ],
   "source": [
    "using BenchmarkTools\n",
    "runtime = @belapsed work!($A, $B, $v, $N);\n",
    "perf = N*N*1e-6/runtime # MIt/s\n",
    "println(\"Performance: $perf MIt/s\")"
   ]
  },
  {
   "cell_type": "markdown",
   "metadata": {},
   "source": [
    "## Optimizations"
   ]
  },
  {
   "cell_type": "markdown",
   "metadata": {},
   "source": [
    "### Analytic optimization"
   ]
  },
  {
   "cell_type": "code",
   "execution_count": 4,
   "metadata": {},
   "outputs": [
    {
     "data": {
      "text/plain": [
       "\u001b[32m\u001b[1mTest Passed\u001b[22m\u001b[39m"
      ]
     },
     "execution_count": 4,
     "metadata": {},
     "output_type": "execute_result"
    }
   ],
   "source": [
    "using Test\n",
    "x = rand()\n",
    "@test 1-2*cos(x)*cos(x) ≈ sin(x)*sin(x)-cos(x)*cos(x)\n",
    "@test -cos(2*x) ≈ sin(x)*sin(x)-cos(x)*cos(x)"
   ]
  },
  {
   "cell_type": "code",
   "execution_count": 5,
   "metadata": {},
   "outputs": [
    {
     "name": "stdout",
     "output_type": "stream",
     "text": [
      "Performance: 50.837003298965655 MIt/s\n"
     ]
    }
   ],
   "source": [
    "function work2!(A, B, v, N)\n",
    "    val = 0\n",
    "    for i in 1:N\n",
    "        for j in 1:N\n",
    "            val = mod(v[i],256);\n",
    "            A[i,j] = B[i,j]*(-cos(2*val));\n",
    "        end\n",
    "    end\n",
    "end\n",
    "\n",
    "runtime = @belapsed work2!($A, $B, $v, $N);\n",
    "perf = N*N*1e-6/runtime # MIt/s\n",
    "println(\"Performance: $perf MIt/s\")"
   ]
  },
  {
   "cell_type": "markdown",
   "metadata": {},
   "source": [
    "### Analytic + pulling out val computation"
   ]
  },
  {
   "cell_type": "code",
   "execution_count": 6,
   "metadata": {},
   "outputs": [
    {
     "name": "stdout",
     "output_type": "stream",
     "text": [
      "Performance: 69.2013470803424 MIt/s\n"
     ]
    }
   ],
   "source": [
    "function work3!(A, B, v, N)\n",
    "    val = 0.0\n",
    "    for i in 1:N\n",
    "        val = -cos(2*mod(v[i],256))\n",
    "        for j in 1:N\n",
    "            A[i,j] = B[i,j]*val;\n",
    "        end\n",
    "    end;\n",
    "end\n",
    "\n",
    "runtime = @belapsed work3!($A, $B, $v, $N);\n",
    "perf = N*N*1e-6/runtime # MIt/s\n",
    "println(\"Performance: $perf MIt/s\")"
   ]
  },
  {
   "cell_type": "markdown",
   "metadata": {},
   "source": [
    "### Analytic + separate out val computation"
   ]
  },
  {
   "cell_type": "code",
   "execution_count": 7,
   "metadata": {},
   "outputs": [
    {
     "name": "stdout",
     "output_type": "stream",
     "text": [
      "Performance: 71.34796988181013 MIt/s\n"
     ]
    }
   ],
   "source": [
    "function work4!(A, B, v, N)\n",
    "    val = [-cos(2*mod(x,256)) for x in v]\n",
    "    \n",
    "    for i in 1:N\n",
    "        for j in 1:N\n",
    "            A[i,j] = B[i,j]*val[i];\n",
    "        end\n",
    "    end;\n",
    "end\n",
    "\n",
    "runtime = @belapsed work4!($A, $B, $v, $N);\n",
    "perf = N*N*1e-6/runtime # MIt/s\n",
    "println(\"Performance: $perf MIt/s\")"
   ]
  },
  {
   "cell_type": "markdown",
   "metadata": {},
   "source": [
    "### Analytic + separate out val computation + switch order of loops"
   ]
  },
  {
   "cell_type": "code",
   "execution_count": 8,
   "metadata": {},
   "outputs": [
    {
     "name": "stdout",
     "output_type": "stream",
     "text": [
      "Performance: 827.7335006458649 MIt/s\n"
     ]
    }
   ],
   "source": [
    "function work5!(A, B, v, N)\n",
    "    val = [-cos(2*mod(x,256)) for x in v]\n",
    "    \n",
    "    for j in 1:N\n",
    "        for i in 1:N\n",
    "            A[i,j] = B[i,j]*val[i];\n",
    "        end\n",
    "    end;\n",
    "end\n",
    "\n",
    "runtime = @belapsed work5!($A, $B, $v, $N);\n",
    "perf = N*N*1e-6/runtime # MIt/s\n",
    "println(\"Performance: $perf MIt/s\")"
   ]
  },
  {
   "cell_type": "markdown",
   "metadata": {},
   "source": [
    "### Analytic + separate out val computation + switch order of loops + `@inbounds`"
   ]
  },
  {
   "cell_type": "code",
   "execution_count": 9,
   "metadata": {},
   "outputs": [
    {
     "name": "stdout",
     "output_type": "stream",
     "text": [
      "Performance: 1053.7804075745998 MIt/s\n"
     ]
    }
   ],
   "source": [
    "function work6!(A, B, v, N)\n",
    "    val = [-cos(2*mod(x,256)) for x in v]\n",
    "    \n",
    "    @inbounds for j in 1:N\n",
    "        for i in 1:N\n",
    "            A[i,j] = B[i,j]*val[i];\n",
    "        end\n",
    "    end;\n",
    "end\n",
    "\n",
    "runtime = @belapsed work6!($A, $B, $v, $N);\n",
    "perf = N*N*1e-6/runtime # MIt/s\n",
    "println(\"Performance: $perf MIt/s\")"
   ]
  },
  {
   "cell_type": "markdown",
   "metadata": {},
   "source": [
    "### Analytic + separate out val computation + switch order of loops + `@inbounds` + lookup table"
   ]
  },
  {
   "cell_type": "code",
   "execution_count": 10,
   "metadata": {},
   "outputs": [
    {
     "name": "stdout",
     "output_type": "stream",
     "text": [
      "Performance: 1065.0666525367824 MIt/s\n"
     ]
    }
   ],
   "source": [
    "lookup = [ -cos(2*j) for j in 0:255 ]\n",
    "\n",
    "function work7!(A, B, v, N, lookup)\n",
    "    @inbounds val = [lookup[mod(x,256)+1] for x in v]\n",
    "    \n",
    "    @inbounds for j in 1:N\n",
    "        for i in 1:N\n",
    "            A[i,j] = B[i,j]*val[i];\n",
    "        end\n",
    "    end;\n",
    "end\n",
    "\n",
    "runtime = @belapsed work7!($A, $B, $v, $N, $lookup);\n",
    "perf = N*N*1e-6/runtime # MIt/s\n",
    "println(\"Performance: $perf MIt/s\")"
   ]
  },
  {
   "cell_type": "code",
   "execution_count": null,
   "metadata": {},
   "outputs": [],
   "source": []
  },
  {
   "cell_type": "code",
   "execution_count": null,
   "metadata": {},
   "outputs": [],
   "source": []
  },
  {
   "cell_type": "markdown",
   "metadata": {},
   "source": [
    "### Analytic + separate out val computation + switch order of loops + `@inbounds` + Multi-threading"
   ]
  },
  {
   "cell_type": "code",
   "execution_count": 11,
   "metadata": {},
   "outputs": [
    {
     "data": {
      "text/plain": [
       "6"
      ]
     },
     "execution_count": 11,
     "metadata": {},
     "output_type": "execute_result"
    }
   ],
   "source": [
    "using Hwloc\n",
    "Hwloc.num_physical_cores()"
   ]
  },
  {
   "cell_type": "code",
   "execution_count": 12,
   "metadata": {},
   "outputs": [
    {
     "data": {
      "text/plain": [
       "6"
      ]
     },
     "execution_count": 12,
     "metadata": {},
     "output_type": "execute_result"
    }
   ],
   "source": [
    "Base.Threads.nthreads()"
   ]
  },
  {
   "cell_type": "code",
   "execution_count": 13,
   "metadata": {},
   "outputs": [
    {
     "name": "stdout",
     "output_type": "stream",
     "text": [
      "Performance: 1186.195120497407 MIt/s\n"
     ]
    }
   ],
   "source": [
    "import Base.Threads: @threads\n",
    "\n",
    "function work6_threaded!(A, B, v, N)\n",
    "    val = [-cos(2*mod(x,256)) for x in v]\n",
    "    \n",
    "    @inbounds @threads for j in 1:N\n",
    "        for i in 1:N\n",
    "            A[i,j] = B[i,j]*val[i];\n",
    "        end\n",
    "    end;\n",
    "end\n",
    "\n",
    "runtime = @belapsed work6_threaded!($A, $B, $v, $N);\n",
    "perf = N*N*1e-6/runtime # MIt/s\n",
    "println(\"Performance: $perf MIt/s\")"
   ]
  },
  {
   "cell_type": "code",
   "execution_count": 14,
   "metadata": {},
   "outputs": [
    {
     "name": "stdout",
     "output_type": "stream",
     "text": [
      "Performance: 1187.8011632730693 MIt/s\n"
     ]
    }
   ],
   "source": [
    "import Base.Threads: @threads\n",
    "\n",
    "lookup = [ -cos(2*j) for j in 0:255 ]\n",
    "\n",
    "function work7_threaded!(A, B, v, N, lookup)\n",
    "    @inbounds val = [lookup[mod(x,256)+1] for x in v]\n",
    "    \n",
    "    @inbounds @threads for j in 1:N\n",
    "        for i in 1:N\n",
    "            A[i,j] = B[i,j]*val[i];\n",
    "        end\n",
    "    end;\n",
    "end\n",
    "\n",
    "runtime = @belapsed work7_threaded!($A, $B, $v, $N, $lookup);\n",
    "perf = N*N*1e-6/runtime # MIt/s\n",
    "println(\"Performance: $perf MIt/s\")"
   ]
  },
  {
   "cell_type": "code",
   "execution_count": null,
   "metadata": {},
   "outputs": [],
   "source": []
  },
  {
   "cell_type": "code",
   "execution_count": null,
   "metadata": {},
   "outputs": [],
   "source": []
  },
  {
   "cell_type": "code",
   "execution_count": null,
   "metadata": {},
   "outputs": [],
   "source": []
  },
  {
   "cell_type": "code",
   "execution_count": null,
   "metadata": {},
   "outputs": [],
   "source": []
  },
  {
   "cell_type": "markdown",
   "metadata": {},
   "source": [
    "## Supplement: Maximal performance?"
   ]
  },
  {
   "cell_type": "code",
   "execution_count": 15,
   "metadata": {},
   "outputs": [
    {
     "name": "stdout",
     "output_type": "stream",
     "text": [
      "Memory bounded performance: 1333.33MIt/s\n"
     ]
    }
   ],
   "source": [
    "bs = 32 # [GB/s] max memory bandwidth (estimated from STREAM benchmark, 41 GB/s is the Intel value for my CPU)\n",
    "flops = 1\n",
    "traffic = 24 # [B/iter] in each iteration we have: LOAD s, LOAD + STORE mat, each contributing 8 B\n",
    "I = flops / traffic\n",
    "println(\"Memory bounded performance: \", round(I*bs*1000, digits=2), \"MIt/s\")"
   ]
  },
  {
   "cell_type": "markdown",
   "metadata": {},
   "source": [
    "#### \"Roofline model\""
   ]
  },
  {
   "cell_type": "code",
   "execution_count": 16,
   "metadata": {},
   "outputs": [
    {
     "data": {
      "text/plain": [
       "432.0"
      ]
     },
     "execution_count": 16,
     "metadata": {},
     "output_type": "execute_result"
    }
   ],
   "source": [
    "using CpuId\n",
    "clock = cpu_max_frequency() * 1e-3 # [GHz], turbo clock frequency\n",
    "\n",
    "fma_per_cycle = 2\n",
    "\n",
    "flops_per_fma = 4*2 # AVX2, 32 byte registers, 4 mul 4 add\n",
    "\n",
    "flops_per_cycle = flops_per_fma * fma_per_cycle\n",
    "\n",
    "ncores = cpucores() # used cores\n",
    "\n",
    "P_peak = clock * flops_per_cycle * ncores # Gflops/s"
   ]
  },
  {
   "cell_type": "markdown",
   "metadata": {},
   "source": [
    "Test realistic peak performance using `peakflops`, which is based on [LinearAlgebra.BLAS.gemm!](https://docs.julialang.org/en/v1/stdlib/LinearAlgebra/#LinearAlgebra.BLAS.gemm!), i.e. `C[i] = α*A[i]*B[i]+βC[i]`."
   ]
  },
  {
   "cell_type": "code",
   "execution_count": 17,
   "metadata": {},
   "outputs": [],
   "source": [
    "# using LinearAlgebra\n",
    "# using Statistics\n",
    "# BLAS.set_num_threads(6)\n",
    "# p = [peakflops(Int(i*1e3)) * 1e-9 for i in 1:12]\n",
    "# mean(p[end-2:end])"
   ]
  },
  {
   "cell_type": "code",
   "execution_count": 18,
   "metadata": {},
   "outputs": [
    {
     "data": {
      "image/svg+xml": [
       "<?xml version=\"1.0\" encoding=\"utf-8\"?>\n",
       "<svg xmlns=\"http://www.w3.org/2000/svg\" xmlns:xlink=\"http://www.w3.org/1999/xlink\" width=\"600\" height=\"400\" viewBox=\"0 0 2400 1600\">\n",
       "<defs>\n",
       "  <clipPath id=\"clip690\">\n",
       "    <rect x=\"0\" y=\"0\" width=\"2400\" height=\"1600\"/>\n",
       "  </clipPath>\n",
       "</defs>\n",
       "<path clip-path=\"url(#clip690)\" d=\"\n",
       "M0 1600 L2400 1600 L2400 0 L0 0  Z\n",
       "  \" fill=\"#ffffff\" fill-rule=\"evenodd\" fill-opacity=\"1\"/>\n",
       "<defs>\n",
       "  <clipPath id=\"clip691\">\n",
       "    <rect x=\"480\" y=\"0\" width=\"1681\" height=\"1600\"/>\n",
       "  </clipPath>\n",
       "</defs>\n",
       "<path clip-path=\"url(#clip690)\" d=\"\n",
       "M251.071 1410.9 L2352.76 1410.9 L2352.76 47.2441 L251.071 47.2441  Z\n",
       "  \" fill=\"#ffffff\" fill-rule=\"evenodd\" fill-opacity=\"1\"/>\n",
       "<defs>\n",
       "  <clipPath id=\"clip692\">\n",
       "    <rect x=\"251\" y=\"47\" width=\"2103\" height=\"1365\"/>\n",
       "  </clipPath>\n",
       "</defs>\n",
       "<polyline clip-path=\"url(#clip692)\" style=\"stroke:#000000; stroke-linecap:butt; stroke-linejoin:round; stroke-width:2; stroke-opacity:0.1; fill:none\" points=\"\n",
       "  574.407,1410.9 574.407,47.2441 \n",
       "  \"/>\n",
       "<polyline clip-path=\"url(#clip692)\" style=\"stroke:#000000; stroke-linecap:butt; stroke-linejoin:round; stroke-width:2; stroke-opacity:0.1; fill:none\" points=\"\n",
       "  1059.41,1410.9 1059.41,47.2441 \n",
       "  \"/>\n",
       "<polyline clip-path=\"url(#clip692)\" style=\"stroke:#000000; stroke-linecap:butt; stroke-linejoin:round; stroke-width:2; stroke-opacity:0.1; fill:none\" points=\"\n",
       "  1544.42,1410.9 1544.42,47.2441 \n",
       "  \"/>\n",
       "<polyline clip-path=\"url(#clip692)\" style=\"stroke:#000000; stroke-linecap:butt; stroke-linejoin:round; stroke-width:2; stroke-opacity:0.1; fill:none\" points=\"\n",
       "  2029.42,1410.9 2029.42,47.2441 \n",
       "  \"/>\n",
       "<polyline clip-path=\"url(#clip690)\" style=\"stroke:#000000; stroke-linecap:butt; stroke-linejoin:round; stroke-width:4; stroke-opacity:1; fill:none\" points=\"\n",
       "  251.071,1410.9 2352.76,1410.9 \n",
       "  \"/>\n",
       "<polyline clip-path=\"url(#clip690)\" style=\"stroke:#000000; stroke-linecap:butt; stroke-linejoin:round; stroke-width:4; stroke-opacity:1; fill:none\" points=\"\n",
       "  251.071,47.2441 2352.76,47.2441 \n",
       "  \"/>\n",
       "<polyline clip-path=\"url(#clip690)\" style=\"stroke:#000000; stroke-linecap:butt; stroke-linejoin:round; stroke-width:4; stroke-opacity:1; fill:none\" points=\"\n",
       "  574.407,1410.9 574.407,1394.53 \n",
       "  \"/>\n",
       "<polyline clip-path=\"url(#clip690)\" style=\"stroke:#000000; stroke-linecap:butt; stroke-linejoin:round; stroke-width:4; stroke-opacity:1; fill:none\" points=\"\n",
       "  1059.41,1410.9 1059.41,1394.53 \n",
       "  \"/>\n",
       "<polyline clip-path=\"url(#clip690)\" style=\"stroke:#000000; stroke-linecap:butt; stroke-linejoin:round; stroke-width:4; stroke-opacity:1; fill:none\" points=\"\n",
       "  1544.42,1410.9 1544.42,1394.53 \n",
       "  \"/>\n",
       "<polyline clip-path=\"url(#clip690)\" style=\"stroke:#000000; stroke-linecap:butt; stroke-linejoin:round; stroke-width:4; stroke-opacity:1; fill:none\" points=\"\n",
       "  2029.42,1410.9 2029.42,1394.53 \n",
       "  \"/>\n",
       "<path clip-path=\"url(#clip690)\" d=\"M524.288 1489.17 L531.926 1489.17 L531.926 1462.8 L523.616 1464.47 L523.616 1460.21 L531.88 1458.54 L536.556 1458.54 L536.556 1489.17 L544.195 1489.17 L544.195 1493.1 L524.288 1493.1 L524.288 1489.17 Z\" fill=\"#000000\" fill-rule=\"evenodd\" fill-opacity=\"1\" /><path clip-path=\"url(#clip690)\" d=\"M563.639 1461.62 Q560.028 1461.62 558.199 1465.19 Q556.394 1468.73 556.394 1475.86 Q556.394 1482.97 558.199 1486.53 Q560.028 1490.07 563.639 1490.07 Q567.273 1490.07 569.079 1486.53 Q570.908 1482.97 570.908 1475.86 Q570.908 1468.73 569.079 1465.19 Q567.273 1461.62 563.639 1461.62 M563.639 1457.92 Q569.449 1457.92 572.505 1462.53 Q575.584 1467.11 575.584 1475.86 Q575.584 1484.59 572.505 1489.19 Q569.449 1493.78 563.639 1493.78 Q557.829 1493.78 554.75 1489.19 Q551.695 1484.59 551.695 1475.86 Q551.695 1467.11 554.75 1462.53 Q557.829 1457.92 563.639 1457.92 Z\" fill=\"#000000\" fill-rule=\"evenodd\" fill-opacity=\"1\" /><path clip-path=\"url(#clip690)\" d=\"M575.584 1452.02 L599.695 1452.02 L599.695 1455.22 L575.584 1455.22 L575.584 1452.02 Z\" fill=\"#000000\" fill-rule=\"evenodd\" fill-opacity=\"1\" /><path clip-path=\"url(#clip690)\" d=\"M619.406 1450.55 Q622.133 1451.14 623.656 1452.98 Q625.198 1454.82 625.198 1457.53 Q625.198 1461.69 622.34 1463.96 Q619.481 1466.24 614.215 1466.24 Q612.447 1466.24 610.566 1465.88 Q608.704 1465.54 606.71 1464.85 L606.71 1461.18 Q608.29 1462.1 610.171 1462.57 Q612.052 1463.04 614.102 1463.04 Q617.675 1463.04 619.537 1461.63 Q621.418 1460.22 621.418 1457.53 Q621.418 1455.05 619.669 1453.66 Q617.939 1452.25 614.835 1452.25 L611.563 1452.25 L611.563 1449.12 L614.986 1449.12 Q617.788 1449.12 619.274 1448.01 Q620.76 1446.89 620.76 1444.78 Q620.76 1442.62 619.218 1441.47 Q617.694 1440.3 614.835 1440.3 Q613.274 1440.3 611.488 1440.64 Q609.701 1440.98 607.557 1441.69 L607.557 1438.31 Q609.72 1437.71 611.6 1437.41 Q613.5 1437.11 615.174 1437.11 Q619.5 1437.11 622.02 1439.08 Q624.54 1441.04 624.54 1444.38 Q624.54 1446.72 623.205 1448.33 Q621.869 1449.93 619.406 1450.55 Z\" fill=\"#000000\" fill-rule=\"evenodd\" fill-opacity=\"1\" /><path clip-path=\"url(#clip690)\" d=\"M1024.39 1489.17 L1032.03 1489.17 L1032.03 1462.8 L1023.72 1464.47 L1023.72 1460.21 L1031.99 1458.54 L1036.66 1458.54 L1036.66 1489.17 L1044.3 1489.17 L1044.3 1493.1 L1024.39 1493.1 L1024.39 1489.17 Z\" fill=\"#000000\" fill-rule=\"evenodd\" fill-opacity=\"1\" /><path clip-path=\"url(#clip690)\" d=\"M1063.75 1461.62 Q1060.13 1461.62 1058.31 1465.19 Q1056.5 1468.73 1056.5 1475.86 Q1056.5 1482.97 1058.31 1486.53 Q1060.13 1490.07 1063.75 1490.07 Q1067.38 1490.07 1069.19 1486.53 Q1071.01 1482.97 1071.01 1475.86 Q1071.01 1468.73 1069.19 1465.19 Q1067.38 1461.62 1063.75 1461.62 M1063.75 1457.92 Q1069.56 1457.92 1072.61 1462.53 Q1075.69 1467.11 1075.69 1475.86 Q1075.69 1484.59 1072.61 1489.19 Q1069.56 1493.78 1063.75 1493.78 Q1057.94 1493.78 1054.86 1489.19 Q1051.8 1484.59 1051.8 1475.86 Q1051.8 1467.11 1054.86 1462.53 Q1057.94 1457.92 1063.75 1457.92 Z\" fill=\"#000000\" fill-rule=\"evenodd\" fill-opacity=\"1\" /><path clip-path=\"url(#clip690)\" d=\"M1085.4 1440.11 Q1082.46 1440.11 1080.98 1443.01 Q1079.51 1445.89 1079.51 1451.68 Q1079.51 1457.46 1080.98 1460.35 Q1082.46 1463.23 1085.4 1463.23 Q1088.35 1463.23 1089.81 1460.35 Q1091.3 1457.46 1091.3 1451.68 Q1091.3 1445.89 1089.81 1443.01 Q1088.35 1440.11 1085.4 1440.11 M1085.4 1437.11 Q1090.12 1437.11 1092.6 1440.85 Q1095.1 1444.57 1095.1 1451.68 Q1095.1 1458.77 1092.6 1462.51 Q1090.12 1466.24 1085.4 1466.24 Q1080.67 1466.24 1078.17 1462.51 Q1075.69 1458.77 1075.69 1451.68 Q1075.69 1444.57 1078.17 1440.85 Q1080.67 1437.11 1085.4 1437.11 Z\" fill=\"#000000\" fill-rule=\"evenodd\" fill-opacity=\"1\" /><path clip-path=\"url(#clip690)\" d=\"M1509.86 1489.17 L1517.5 1489.17 L1517.5 1462.8 L1509.19 1464.47 L1509.19 1460.21 L1517.45 1458.54 L1522.13 1458.54 L1522.13 1489.17 L1529.77 1489.17 L1529.77 1493.1 L1509.86 1493.1 L1509.86 1489.17 Z\" fill=\"#000000\" fill-rule=\"evenodd\" fill-opacity=\"1\" /><path clip-path=\"url(#clip690)\" d=\"M1549.21 1461.62 Q1545.6 1461.62 1543.77 1465.19 Q1541.97 1468.73 1541.97 1475.86 Q1541.97 1482.97 1543.77 1486.53 Q1545.6 1490.07 1549.21 1490.07 Q1552.85 1490.07 1554.65 1486.53 Q1556.48 1482.97 1556.48 1475.86 Q1556.48 1468.73 1554.65 1465.19 Q1552.85 1461.62 1549.21 1461.62 M1549.21 1457.92 Q1555.02 1457.92 1558.08 1462.53 Q1561.16 1467.11 1561.16 1475.86 Q1561.16 1484.59 1558.08 1489.19 Q1555.02 1493.78 1549.21 1493.78 Q1543.4 1493.78 1540.32 1489.19 Q1537.27 1484.59 1537.27 1475.86 Q1537.27 1467.11 1540.32 1462.53 Q1543.4 1457.92 1549.21 1457.92 Z\" fill=\"#000000\" fill-rule=\"evenodd\" fill-opacity=\"1\" /><path clip-path=\"url(#clip690)\" d=\"M1573.85 1450.55 Q1576.58 1451.14 1578.1 1452.98 Q1579.64 1454.82 1579.64 1457.53 Q1579.64 1461.69 1576.78 1463.96 Q1573.93 1466.24 1568.66 1466.24 Q1566.89 1466.24 1565.01 1465.88 Q1563.15 1465.54 1561.16 1464.85 L1561.16 1461.18 Q1562.74 1462.1 1564.62 1462.57 Q1566.5 1463.04 1568.55 1463.04 Q1572.12 1463.04 1573.98 1461.63 Q1575.86 1460.22 1575.86 1457.53 Q1575.86 1455.05 1574.11 1453.66 Q1572.38 1452.25 1569.28 1452.25 L1566.01 1452.25 L1566.01 1449.12 L1569.43 1449.12 Q1572.23 1449.12 1573.72 1448.01 Q1575.2 1446.89 1575.2 1444.78 Q1575.2 1442.62 1573.66 1441.47 Q1572.14 1440.3 1569.28 1440.3 Q1567.72 1440.3 1565.93 1440.64 Q1564.15 1440.98 1562 1441.69 L1562 1438.31 Q1564.16 1437.71 1566.05 1437.41 Q1567.94 1437.11 1569.62 1437.11 Q1573.94 1437.11 1576.46 1439.08 Q1578.99 1441.04 1578.99 1444.38 Q1578.99 1446.72 1577.65 1448.33 Q1576.31 1449.93 1573.85 1450.55 Z\" fill=\"#000000\" fill-rule=\"evenodd\" fill-opacity=\"1\" /><path clip-path=\"url(#clip690)\" d=\"M1994.41 1489.17 L2002.05 1489.17 L2002.05 1462.8 L1993.74 1464.47 L1993.74 1460.21 L2002 1458.54 L2006.68 1458.54 L2006.68 1489.17 L2014.32 1489.17 L2014.32 1493.1 L1994.41 1493.1 L1994.41 1489.17 Z\" fill=\"#000000\" fill-rule=\"evenodd\" fill-opacity=\"1\" /><path clip-path=\"url(#clip690)\" d=\"M2033.76 1461.62 Q2030.15 1461.62 2028.32 1465.19 Q2026.52 1468.73 2026.52 1475.86 Q2026.52 1482.97 2028.32 1486.53 Q2030.15 1490.07 2033.76 1490.07 Q2037.4 1490.07 2039.2 1486.53 Q2041.03 1482.97 2041.03 1475.86 Q2041.03 1468.73 2039.2 1465.19 Q2037.4 1461.62 2033.76 1461.62 M2033.76 1457.92 Q2039.57 1457.92 2042.63 1462.53 Q2045.71 1467.11 2045.71 1475.86 Q2045.71 1484.59 2042.63 1489.19 Q2039.57 1493.78 2033.76 1493.78 Q2027.95 1493.78 2024.87 1489.19 Q2021.82 1484.59 2021.82 1475.86 Q2021.82 1467.11 2024.87 1462.53 Q2027.95 1457.92 2033.76 1457.92 Z\" fill=\"#000000\" fill-rule=\"evenodd\" fill-opacity=\"1\" /><path clip-path=\"url(#clip690)\" d=\"M2055.73 1450.14 Q2053.17 1450.14 2051.67 1451.89 Q2050.18 1453.64 2050.18 1456.68 Q2050.18 1459.71 2051.67 1461.48 Q2053.17 1463.23 2055.73 1463.23 Q2058.29 1463.23 2059.78 1461.48 Q2061.28 1459.71 2061.28 1456.68 Q2061.28 1453.64 2059.78 1451.89 Q2058.29 1450.14 2055.73 1450.14 M2063.27 1438.23 L2063.27 1441.69 Q2061.85 1441.02 2060.38 1440.66 Q2058.93 1440.3 2057.5 1440.3 Q2053.74 1440.3 2051.75 1442.84 Q2049.77 1445.38 2049.49 1450.52 Q2050.6 1448.88 2052.27 1448.01 Q2053.95 1447.13 2055.96 1447.13 Q2060.19 1447.13 2062.64 1449.71 Q2065.1 1452.26 2065.1 1456.68 Q2065.1 1461.01 2062.54 1463.62 Q2059.98 1466.24 2055.73 1466.24 Q2050.86 1466.24 2048.28 1462.51 Q2045.71 1458.77 2045.71 1451.68 Q2045.71 1445.02 2048.87 1441.07 Q2052.03 1437.11 2057.35 1437.11 Q2058.78 1437.11 2060.23 1437.39 Q2061.69 1437.67 2063.27 1438.23 Z\" fill=\"#000000\" fill-rule=\"evenodd\" fill-opacity=\"1\" /><path clip-path=\"url(#clip690)\" d=\"M1018.78 1526.67 L1025.21 1526.67 L1025.21 1574.19 L1018.78 1574.19 L1018.78 1526.67 Z\" fill=\"#000000\" fill-rule=\"evenodd\" fill-opacity=\"1\" /><path clip-path=\"url(#clip690)\" d=\"M1067.39 1552.67 L1067.39 1574.19 L1061.53 1574.19 L1061.53 1552.86 Q1061.53 1547.8 1059.56 1545.29 Q1057.58 1542.77 1053.64 1542.77 Q1048.89 1542.77 1046.16 1545.79 Q1043.42 1548.82 1043.42 1554.04 L1043.42 1574.19 L1037.53 1574.19 L1037.53 1538.54 L1043.42 1538.54 L1043.42 1544.08 Q1045.52 1540.86 1048.35 1539.27 Q1051.22 1537.68 1054.94 1537.68 Q1061.08 1537.68 1064.23 1541.5 Q1067.39 1545.29 1067.39 1552.67 Z\" fill=\"#000000\" fill-rule=\"evenodd\" fill-opacity=\"1\" /><path clip-path=\"url(#clip690)\" d=\"M1084.86 1528.42 L1084.86 1538.54 L1096.92 1538.54 L1096.92 1543.09 L1084.86 1543.09 L1084.86 1562.44 Q1084.86 1566.8 1086.04 1568.04 Q1087.25 1569.28 1090.91 1569.28 L1096.92 1569.28 L1096.92 1574.19 L1090.91 1574.19 Q1084.13 1574.19 1081.55 1571.67 Q1078.97 1569.12 1078.97 1562.44 L1078.97 1543.09 L1074.67 1543.09 L1074.67 1538.54 L1078.97 1538.54 L1078.97 1528.42 L1084.86 1528.42 Z\" fill=\"#000000\" fill-rule=\"evenodd\" fill-opacity=\"1\" /><path clip-path=\"url(#clip690)\" d=\"M1135.12 1554.9 L1135.12 1557.76 L1108.19 1557.76 Q1108.57 1563.81 1111.82 1566.99 Q1115.1 1570.14 1120.92 1570.14 Q1124.29 1570.14 1127.45 1569.32 Q1130.63 1568.49 1133.75 1566.83 L1133.75 1572.37 Q1130.6 1573.71 1127.29 1574.41 Q1123.98 1575.11 1120.57 1575.11 Q1112.04 1575.11 1107.04 1570.14 Q1102.08 1565.18 1102.08 1556.71 Q1102.08 1547.96 1106.79 1542.83 Q1111.53 1537.68 1119.55 1537.68 Q1126.75 1537.68 1130.91 1542.33 Q1135.12 1546.94 1135.12 1554.9 M1129.26 1553.18 Q1129.2 1548.37 1126.55 1545.51 Q1123.94 1542.64 1119.62 1542.64 Q1114.71 1542.64 1111.75 1545.41 Q1108.83 1548.18 1108.38 1553.21 L1129.26 1553.18 Z\" fill=\"#000000\" fill-rule=\"evenodd\" fill-opacity=\"1\" /><path clip-path=\"url(#clip690)\" d=\"M1174.36 1552.67 L1174.36 1574.19 L1168.5 1574.19 L1168.5 1552.86 Q1168.5 1547.8 1166.53 1545.29 Q1164.56 1542.77 1160.61 1542.77 Q1155.87 1542.77 1153.13 1545.79 Q1150.39 1548.82 1150.39 1554.04 L1150.39 1574.19 L1144.51 1574.19 L1144.51 1538.54 L1150.39 1538.54 L1150.39 1544.08 Q1152.49 1540.86 1155.33 1539.27 Q1158.19 1537.68 1161.92 1537.68 Q1168.06 1537.68 1171.21 1541.5 Q1174.36 1545.29 1174.36 1552.67 Z\" fill=\"#000000\" fill-rule=\"evenodd\" fill-opacity=\"1\" /><path clip-path=\"url(#clip690)\" d=\"M1208.77 1539.59 L1208.77 1545.13 Q1206.28 1543.85 1203.61 1543.22 Q1200.94 1542.58 1198.07 1542.58 Q1193.71 1542.58 1191.52 1543.92 Q1189.35 1545.25 1189.35 1547.93 Q1189.35 1549.96 1190.91 1551.14 Q1192.47 1552.29 1197.18 1553.34 L1199.19 1553.78 Q1205.43 1555.12 1208.04 1557.57 Q1210.68 1559.99 1210.68 1564.35 Q1210.68 1569.32 1206.73 1572.21 Q1202.82 1575.11 1195.94 1575.11 Q1193.08 1575.11 1189.96 1574.54 Q1186.87 1573.99 1183.43 1572.88 L1183.43 1566.83 Q1186.68 1568.52 1189.83 1569.38 Q1192.98 1570.21 1196.07 1570.21 Q1200.21 1570.21 1202.43 1568.81 Q1204.66 1567.37 1204.66 1564.8 Q1204.66 1562.41 1203.04 1561.14 Q1201.45 1559.86 1196 1558.68 L1193.97 1558.21 Q1188.52 1557.06 1186.11 1554.71 Q1183.69 1552.32 1183.69 1548.18 Q1183.69 1543.15 1187.25 1540.42 Q1190.82 1537.68 1197.37 1537.68 Q1200.62 1537.68 1203.48 1538.16 Q1206.35 1538.63 1208.77 1539.59 Z\" fill=\"#000000\" fill-rule=\"evenodd\" fill-opacity=\"1\" /><path clip-path=\"url(#clip690)\" d=\"M1220 1538.54 L1225.86 1538.54 L1225.86 1574.19 L1220 1574.19 L1220 1538.54 M1220 1524.66 L1225.86 1524.66 L1225.86 1532.08 L1220 1532.08 L1220 1524.66 Z\" fill=\"#000000\" fill-rule=\"evenodd\" fill-opacity=\"1\" /><path clip-path=\"url(#clip690)\" d=\"M1243.91 1528.42 L1243.91 1538.54 L1255.97 1538.54 L1255.97 1543.09 L1243.91 1543.09 L1243.91 1562.44 Q1243.91 1566.8 1245.08 1568.04 Q1246.29 1569.28 1249.95 1569.28 L1255.97 1569.28 L1255.97 1574.19 L1249.95 1574.19 Q1243.17 1574.19 1240.6 1571.67 Q1238.02 1569.12 1238.02 1562.44 L1238.02 1543.09 L1233.72 1543.09 L1233.72 1538.54 L1238.02 1538.54 L1238.02 1528.42 L1243.91 1528.42 Z\" fill=\"#000000\" fill-rule=\"evenodd\" fill-opacity=\"1\" /><path clip-path=\"url(#clip690)\" d=\"M1278.5 1577.5 Q1276.02 1583.86 1273.67 1585.8 Q1271.31 1587.74 1267.36 1587.74 L1262.68 1587.74 L1262.68 1582.84 L1266.12 1582.84 Q1268.54 1582.84 1269.88 1581.7 Q1271.21 1580.55 1272.84 1576.29 L1273.89 1573.61 L1259.47 1538.54 L1265.68 1538.54 L1276.82 1566.42 L1287.96 1538.54 L1294.16 1538.54 L1278.5 1577.5 Z\" fill=\"#000000\" fill-rule=\"evenodd\" fill-opacity=\"1\" /><path clip-path=\"url(#clip690)\" d=\"M1322.43 1524.66 L1335.92 1524.66 L1335.92 1529.21 L1328.28 1529.21 L1328.28 1578.23 L1335.92 1578.23 L1335.92 1582.78 L1322.43 1582.78 L1322.43 1524.66 Z\" fill=\"#000000\" fill-rule=\"evenodd\" fill-opacity=\"1\" /><path clip-path=\"url(#clip690)\" d=\"M1366.45 1524.66 L1366.45 1529.53 L1360.84 1529.53 Q1357.69 1529.53 1356.45 1530.8 Q1355.24 1532.08 1355.24 1535.39 L1355.24 1538.54 L1364.89 1538.54 L1364.89 1543.09 L1355.24 1543.09 L1355.24 1574.19 L1349.35 1574.19 L1349.35 1543.09 L1343.75 1543.09 L1343.75 1538.54 L1349.35 1538.54 L1349.35 1536.05 Q1349.35 1530.1 1352.12 1527.4 Q1354.89 1524.66 1360.91 1524.66 L1366.45 1524.66 Z\" fill=\"#000000\" fill-rule=\"evenodd\" fill-opacity=\"1\" /><path clip-path=\"url(#clip690)\" d=\"M1371.35 1524.66 L1377.2 1524.66 L1377.2 1574.19 L1371.35 1574.19 L1371.35 1524.66 Z\" fill=\"#000000\" fill-rule=\"evenodd\" fill-opacity=\"1\" /><path clip-path=\"url(#clip690)\" d=\"M1403.27 1542.64 Q1398.56 1542.64 1395.82 1546.34 Q1393.09 1550 1393.09 1556.39 Q1393.09 1562.79 1395.79 1566.48 Q1398.53 1570.14 1403.27 1570.14 Q1407.95 1570.14 1410.69 1566.45 Q1413.42 1562.76 1413.42 1556.39 Q1413.42 1550.06 1410.69 1546.37 Q1407.95 1542.64 1403.27 1542.64 M1403.27 1537.68 Q1410.91 1537.68 1415.27 1542.64 Q1419.63 1547.61 1419.63 1556.39 Q1419.63 1565.15 1415.27 1570.14 Q1410.91 1575.11 1403.27 1575.11 Q1395.6 1575.11 1391.24 1570.14 Q1386.91 1565.15 1386.91 1556.39 Q1386.91 1547.61 1391.24 1542.64 Q1395.6 1537.68 1403.27 1537.68 Z\" fill=\"#000000\" fill-rule=\"evenodd\" fill-opacity=\"1\" /><path clip-path=\"url(#clip690)\" d=\"M1435 1568.84 L1435 1587.74 L1429.12 1587.74 L1429.12 1538.54 L1435 1538.54 L1435 1543.95 Q1436.85 1540.77 1439.65 1539.24 Q1442.48 1537.68 1446.4 1537.68 Q1452.89 1537.68 1456.93 1542.83 Q1461.01 1547.99 1461.01 1556.39 Q1461.01 1564.8 1456.93 1569.95 Q1452.89 1575.11 1446.4 1575.11 Q1442.48 1575.11 1439.65 1573.58 Q1436.85 1572.02 1435 1568.84 M1454.93 1556.39 Q1454.93 1549.93 1452.26 1546.27 Q1449.61 1542.58 1444.97 1542.58 Q1440.32 1542.58 1437.65 1546.27 Q1435 1549.93 1435 1556.39 Q1435 1562.85 1437.65 1566.55 Q1440.32 1570.21 1444.97 1570.21 Q1449.61 1570.21 1452.26 1566.55 Q1454.93 1562.85 1454.93 1556.39 Z\" fill=\"#000000\" fill-rule=\"evenodd\" fill-opacity=\"1\" /><path clip-path=\"url(#clip690)\" d=\"M1493.44 1539.59 L1493.44 1545.13 Q1490.96 1543.85 1488.29 1543.22 Q1485.61 1542.58 1482.75 1542.58 Q1478.39 1542.58 1476.19 1543.92 Q1474.03 1545.25 1474.03 1547.93 Q1474.03 1549.96 1475.59 1551.14 Q1477.15 1552.29 1481.86 1553.34 L1483.86 1553.78 Q1490.1 1555.12 1492.71 1557.57 Q1495.35 1559.99 1495.35 1564.35 Q1495.35 1569.32 1491.4 1572.21 Q1487.49 1575.11 1480.61 1575.11 Q1477.75 1575.11 1474.63 1574.54 Q1471.54 1573.99 1468.11 1572.88 L1468.11 1566.83 Q1471.35 1568.52 1474.5 1569.38 Q1477.65 1570.21 1480.74 1570.21 Q1484.88 1570.21 1487.11 1568.81 Q1489.34 1567.37 1489.34 1564.8 Q1489.34 1562.41 1487.71 1561.14 Q1486.12 1559.86 1480.68 1558.68 L1478.64 1558.21 Q1473.2 1557.06 1470.78 1554.71 Q1468.36 1552.32 1468.36 1548.18 Q1468.36 1543.15 1471.93 1540.42 Q1475.49 1537.68 1482.05 1537.68 Q1485.29 1537.68 1488.16 1538.16 Q1491.02 1538.63 1493.44 1539.59 Z\" fill=\"#000000\" fill-rule=\"evenodd\" fill-opacity=\"1\" /><path clip-path=\"url(#clip690)\" d=\"M1515.09 1526.67 L1520.5 1526.67 L1503.95 1580.23 L1498.53 1580.23 L1515.09 1526.67 Z\" fill=\"#000000\" fill-rule=\"evenodd\" fill-opacity=\"1\" /><path clip-path=\"url(#clip690)\" d=\"M1533.32 1551.49 L1533.32 1568.9 L1543.64 1568.9 Q1548.82 1568.9 1551.31 1566.77 Q1553.82 1564.61 1553.82 1560.18 Q1553.82 1555.72 1551.31 1553.62 Q1548.82 1551.49 1543.64 1551.49 L1533.32 1551.49 M1533.32 1531.95 L1533.32 1546.27 L1542.84 1546.27 Q1547.55 1546.27 1549.84 1544.52 Q1552.17 1542.74 1552.17 1539.11 Q1552.17 1535.51 1549.84 1533.73 Q1547.55 1531.95 1542.84 1531.95 L1533.32 1531.95 M1526.89 1526.67 L1543.32 1526.67 Q1550.67 1526.67 1554.65 1529.72 Q1558.63 1532.78 1558.63 1538.41 Q1558.63 1542.77 1556.59 1545.35 Q1554.55 1547.93 1550.61 1548.56 Q1555.35 1549.58 1557.96 1552.83 Q1560.6 1556.04 1560.6 1560.88 Q1560.6 1567.25 1556.27 1570.72 Q1551.94 1574.19 1543.95 1574.19 L1526.89 1574.19 L1526.89 1526.67 Z\" fill=\"#000000\" fill-rule=\"evenodd\" fill-opacity=\"1\" /><path clip-path=\"url(#clip690)\" d=\"M1585.04 1524.66 L1585.04 1582.78 L1571.55 1582.78 L1571.55 1578.23 L1579.16 1578.23 L1579.16 1529.21 L1571.55 1529.21 L1571.55 1524.66 L1585.04 1524.66 Z\" fill=\"#000000\" fill-rule=\"evenodd\" fill-opacity=\"1\" /><polyline clip-path=\"url(#clip692)\" style=\"stroke:#000000; stroke-linecap:butt; stroke-linejoin:round; stroke-width:2; stroke-opacity:0.1; fill:none\" points=\"\n",
       "  251.071,1158.01 2352.76,1158.01 \n",
       "  \"/>\n",
       "<polyline clip-path=\"url(#clip692)\" style=\"stroke:#000000; stroke-linecap:butt; stroke-linejoin:round; stroke-width:2; stroke-opacity:0.1; fill:none\" points=\"\n",
       "  251.071,872.297 2352.76,872.297 \n",
       "  \"/>\n",
       "<polyline clip-path=\"url(#clip692)\" style=\"stroke:#000000; stroke-linecap:butt; stroke-linejoin:round; stroke-width:2; stroke-opacity:0.1; fill:none\" points=\"\n",
       "  251.071,586.579 2352.76,586.579 \n",
       "  \"/>\n",
       "<polyline clip-path=\"url(#clip692)\" style=\"stroke:#000000; stroke-linecap:butt; stroke-linejoin:round; stroke-width:2; stroke-opacity:0.1; fill:none\" points=\"\n",
       "  251.071,300.862 2352.76,300.862 \n",
       "  \"/>\n",
       "<polyline clip-path=\"url(#clip690)\" style=\"stroke:#000000; stroke-linecap:butt; stroke-linejoin:round; stroke-width:4; stroke-opacity:1; fill:none\" points=\"\n",
       "  251.071,1410.9 251.071,47.2441 \n",
       "  \"/>\n",
       "<polyline clip-path=\"url(#clip690)\" style=\"stroke:#000000; stroke-linecap:butt; stroke-linejoin:round; stroke-width:4; stroke-opacity:1; fill:none\" points=\"\n",
       "  2352.76,1410.9 2352.76,47.2441 \n",
       "  \"/>\n",
       "<polyline clip-path=\"url(#clip690)\" style=\"stroke:#000000; stroke-linecap:butt; stroke-linejoin:round; stroke-width:4; stroke-opacity:1; fill:none\" points=\"\n",
       "  251.071,1158.01 276.291,1158.01 \n",
       "  \"/>\n",
       "<polyline clip-path=\"url(#clip690)\" style=\"stroke:#000000; stroke-linecap:butt; stroke-linejoin:round; stroke-width:4; stroke-opacity:1; fill:none\" points=\"\n",
       "  251.071,872.297 276.291,872.297 \n",
       "  \"/>\n",
       "<polyline clip-path=\"url(#clip690)\" style=\"stroke:#000000; stroke-linecap:butt; stroke-linejoin:round; stroke-width:4; stroke-opacity:1; fill:none\" points=\"\n",
       "  251.071,586.579 276.291,586.579 \n",
       "  \"/>\n",
       "<polyline clip-path=\"url(#clip690)\" style=\"stroke:#000000; stroke-linecap:butt; stroke-linejoin:round; stroke-width:4; stroke-opacity:1; fill:none\" points=\"\n",
       "  251.071,300.862 276.291,300.862 \n",
       "  \"/>\n",
       "<path clip-path=\"url(#clip690)\" d=\"M114.931 1177.81 L122.57 1177.81 L122.57 1151.44 L114.26 1153.11 L114.26 1148.85 L122.524 1147.18 L127.2 1147.18 L127.2 1177.81 L134.839 1177.81 L134.839 1181.74 L114.931 1181.74 L114.931 1177.81 Z\" fill=\"#000000\" fill-rule=\"evenodd\" fill-opacity=\"1\" /><path clip-path=\"url(#clip690)\" d=\"M154.283 1150.26 Q150.672 1150.26 148.843 1153.83 Q147.038 1157.37 147.038 1164.5 Q147.038 1171.6 148.843 1175.17 Q150.672 1178.71 154.283 1178.71 Q157.917 1178.71 159.723 1175.17 Q161.552 1171.6 161.552 1164.5 Q161.552 1157.37 159.723 1153.83 Q157.917 1150.26 154.283 1150.26 M154.283 1146.56 Q160.093 1146.56 163.149 1151.16 Q166.227 1155.75 166.227 1164.5 Q166.227 1173.22 163.149 1177.83 Q160.093 1182.41 154.283 1182.41 Q148.473 1182.41 145.394 1177.83 Q142.339 1173.22 142.339 1164.5 Q142.339 1155.75 145.394 1151.16 Q148.473 1146.56 154.283 1146.56 Z\" fill=\"#000000\" fill-rule=\"evenodd\" fill-opacity=\"1\" /><path clip-path=\"url(#clip690)\" d=\"M166.227 1140.66 L190.339 1140.66 L190.339 1143.86 L166.227 1143.86 L166.227 1140.66 Z\" fill=\"#000000\" fill-rule=\"evenodd\" fill-opacity=\"1\" /><path clip-path=\"url(#clip690)\" d=\"M201.812 1151.13 L215.071 1151.13 L215.071 1154.33 L197.241 1154.33 L197.241 1151.13 Q199.404 1148.9 203.128 1145.13 Q206.871 1141.35 207.83 1140.26 Q209.655 1138.21 210.369 1136.8 Q211.103 1135.37 211.103 1134 Q211.103 1131.76 209.523 1130.35 Q207.962 1128.94 205.442 1128.94 Q203.655 1128.94 201.661 1129.56 Q199.686 1130.18 197.43 1131.44 L197.43 1127.61 Q199.724 1126.68 201.718 1126.21 Q203.711 1125.74 205.366 1125.74 Q209.73 1125.74 212.325 1127.93 Q214.921 1130.11 214.921 1133.76 Q214.921 1135.49 214.263 1137.05 Q213.623 1138.59 211.912 1140.7 Q211.441 1141.24 208.921 1143.86 Q206.401 1146.45 201.812 1151.13 Z\" fill=\"#000000\" fill-rule=\"evenodd\" fill-opacity=\"1\" /><path clip-path=\"url(#clip690)\" d=\"M144.366 892.089 L152.004 892.089 L152.004 865.724 L143.694 867.39 L143.694 863.131 L151.958 861.465 L156.634 861.465 L156.634 892.089 L164.273 892.089 L164.273 896.025 L144.366 896.025 L144.366 892.089 Z\" fill=\"#000000\" fill-rule=\"evenodd\" fill-opacity=\"1\" /><path clip-path=\"url(#clip690)\" d=\"M183.717 864.543 Q180.106 864.543 178.277 868.108 Q176.472 871.65 176.472 878.779 Q176.472 885.886 178.277 889.451 Q180.106 892.992 183.717 892.992 Q187.351 892.992 189.157 889.451 Q190.986 885.886 190.986 878.779 Q190.986 871.65 189.157 868.108 Q187.351 864.543 183.717 864.543 M183.717 860.84 Q189.527 860.84 192.583 865.446 Q195.662 870.029 195.662 878.779 Q195.662 887.506 192.583 892.113 Q189.527 896.696 183.717 896.696 Q177.907 896.696 174.828 892.113 Q171.773 887.506 171.773 878.779 Q171.773 870.029 174.828 865.446 Q177.907 860.84 183.717 860.84 Z\" fill=\"#000000\" fill-rule=\"evenodd\" fill-opacity=\"1\" /><path clip-path=\"url(#clip690)\" d=\"M205.366 843.036 Q202.432 843.036 200.947 845.932 Q199.48 848.81 199.48 854.602 Q199.48 860.376 200.947 863.273 Q202.432 866.15 205.366 866.15 Q208.319 866.15 209.786 863.273 Q211.272 860.376 211.272 854.602 Q211.272 848.81 209.786 845.932 Q208.319 843.036 205.366 843.036 M205.366 840.026 Q210.087 840.026 212.57 843.769 Q215.071 847.493 215.071 854.602 Q215.071 861.693 212.57 865.436 Q210.087 869.16 205.366 869.16 Q200.646 869.16 198.144 865.436 Q195.662 861.693 195.662 854.602 Q195.662 847.493 198.144 843.769 Q200.646 840.026 205.366 840.026 Z\" fill=\"#000000\" fill-rule=\"evenodd\" fill-opacity=\"1\" /><path clip-path=\"url(#clip690)\" d=\"M145.945 606.372 L153.584 606.372 L153.584 580.006 L145.274 581.673 L145.274 577.414 L153.538 575.747 L158.214 575.747 L158.214 606.372 L165.853 606.372 L165.853 610.307 L145.945 610.307 L145.945 606.372 Z\" fill=\"#000000\" fill-rule=\"evenodd\" fill-opacity=\"1\" /><path clip-path=\"url(#clip690)\" d=\"M185.297 578.826 Q181.686 578.826 179.857 582.391 Q178.052 585.932 178.052 593.062 Q178.052 600.168 179.857 603.733 Q181.686 607.275 185.297 607.275 Q188.931 607.275 190.737 603.733 Q192.566 600.168 192.566 593.062 Q192.566 585.932 190.737 582.391 Q188.931 578.826 185.297 578.826 M185.297 575.122 Q191.107 575.122 194.163 579.729 Q197.241 584.312 197.241 593.062 Q197.241 601.789 194.163 606.395 Q191.107 610.978 185.297 610.978 Q179.487 610.978 176.408 606.395 Q173.353 601.789 173.353 593.062 Q173.353 584.312 176.408 579.729 Q179.487 575.122 185.297 575.122 Z\" fill=\"#000000\" fill-rule=\"evenodd\" fill-opacity=\"1\" /><path clip-path=\"url(#clip690)\" d=\"M201.812 579.699 L215.071 579.699 L215.071 582.897 L197.241 582.897 L197.241 579.699 Q199.404 577.461 203.128 573.7 Q206.871 569.919 207.83 568.828 Q209.655 566.778 210.369 565.368 Q211.103 563.938 211.103 562.565 Q211.103 560.327 209.523 558.917 Q207.962 557.506 205.442 557.506 Q203.655 557.506 201.661 558.127 Q199.686 558.747 197.43 560.008 L197.43 556.171 Q199.724 555.249 201.718 554.779 Q203.711 554.309 205.366 554.309 Q209.73 554.309 212.325 556.491 Q214.921 558.672 214.921 562.321 Q214.921 564.051 214.263 565.612 Q213.623 567.155 211.912 569.261 Q211.441 569.806 208.921 572.421 Q206.401 575.016 201.812 579.699 Z\" fill=\"#000000\" fill-rule=\"evenodd\" fill-opacity=\"1\" /><path clip-path=\"url(#clip690)\" d=\"M143.312 320.654 L150.951 320.654 L150.951 294.289 L142.641 295.955 L142.641 291.696 L150.905 290.03 L155.581 290.03 L155.581 320.654 L163.22 320.654 L163.22 324.59 L143.312 324.59 L143.312 320.654 Z\" fill=\"#000000\" fill-rule=\"evenodd\" fill-opacity=\"1\" /><path clip-path=\"url(#clip690)\" d=\"M182.664 293.108 Q179.053 293.108 177.224 296.673 Q175.419 300.215 175.419 307.344 Q175.419 314.451 177.224 318.015 Q179.053 321.557 182.664 321.557 Q186.298 321.557 188.104 318.015 Q189.932 314.451 189.932 307.344 Q189.932 300.215 188.104 296.673 Q186.298 293.108 182.664 293.108 M182.664 289.405 Q188.474 289.405 191.53 294.011 Q194.608 298.594 194.608 307.344 Q194.608 316.071 191.53 320.677 Q188.474 325.261 182.664 325.261 Q176.854 325.261 173.775 320.677 Q170.72 316.071 170.72 307.344 Q170.72 298.594 173.775 294.011 Q176.854 289.405 182.664 289.405 Z\" fill=\"#000000\" fill-rule=\"evenodd\" fill-opacity=\"1\" /><path clip-path=\"url(#clip690)\" d=\"M207.285 272.409 L197.693 287.399 L207.285 287.399 L207.285 272.409 M206.288 269.099 L211.065 269.099 L211.065 287.399 L215.071 287.399 L215.071 290.559 L211.065 290.559 L211.065 297.179 L207.285 297.179 L207.285 290.559 L194.608 290.559 L194.608 286.891 L206.288 269.099 Z\" fill=\"#000000\" fill-rule=\"evenodd\" fill-opacity=\"1\" /><path clip-path=\"url(#clip690)\" d=\"M21.7677 1090.32 L39.6235 1090.32 L39.6235 1082.24 Q39.6235 1077.75 37.3 1075.3 Q34.9765 1072.85 30.6797 1072.85 Q26.4147 1072.85 24.0912 1075.3 Q21.7677 1077.75 21.7677 1082.24 L21.7677 1090.32 M16.4842 1096.75 L16.4842 1082.24 Q16.4842 1074.25 20.1126 1070.18 Q23.7092 1066.07 30.6797 1066.07 Q37.7138 1066.07 41.3104 1070.18 Q44.907 1074.25 44.907 1082.24 L44.907 1090.32 L64.0042 1090.32 L64.0042 1096.75 L16.4842 1096.75 Z\" fill=\"#000000\" fill-rule=\"evenodd\" fill-opacity=\"1\" /><path clip-path=\"url(#clip690)\" d=\"M44.7161 1029.53 L47.5806 1029.53 L47.5806 1056.46 Q53.6281 1056.08 56.8109 1052.83 Q59.9619 1049.55 59.9619 1043.73 Q59.9619 1040.35 59.1344 1037.2 Q58.3069 1034.02 56.6518 1030.9 L62.1899 1030.9 Q63.5267 1034.05 64.227 1037.36 Q64.9272 1040.67 64.9272 1044.08 Q64.9272 1052.61 59.9619 1057.6 Q54.9967 1062.57 46.5303 1062.57 Q37.7774 1062.57 32.6531 1057.86 Q27.4968 1053.12 27.4968 1045.1 Q27.4968 1037.9 32.1438 1033.73 Q36.7589 1029.53 44.7161 1029.53 M42.9973 1035.39 Q38.1912 1035.45 35.3266 1038.09 Q32.4621 1040.7 32.4621 1045.03 Q32.4621 1049.93 35.2312 1052.89 Q38.0002 1055.82 43.0292 1056.27 L42.9973 1035.39 Z\" fill=\"#000000\" fill-rule=\"evenodd\" fill-opacity=\"1\" /><path clip-path=\"url(#clip690)\" d=\"M33.8307 999.263 Q33.2578 1000.25 33.0032 1001.43 Q32.7167 1002.57 32.7167 1003.97 Q32.7167 1008.94 35.9632 1011.61 Q39.1779 1014.25 45.2253 1014.25 L64.0042 1014.25 L64.0042 1020.14 L28.3562 1020.14 L28.3562 1014.25 L33.8944 1014.25 Q30.6479 1012.41 29.0883 1009.45 Q27.4968 1006.49 27.4968 1002.25 Q27.4968 1001.65 27.5923 1000.92 Q27.656 1000.19 27.8151 999.295 L33.8307 999.263 Z\" fill=\"#000000\" fill-rule=\"evenodd\" fill-opacity=\"1\" /><path clip-path=\"url(#clip690)\" d=\"M14.479 975.073 L19.3487 975.073 L19.3487 980.675 Q19.3487 983.826 20.6219 985.067 Q21.895 986.277 25.2052 986.277 L28.3562 986.277 L28.3562 976.633 L32.9077 976.633 L32.9077 986.277 L64.0042 986.277 L64.0042 992.165 L32.9077 992.165 L32.9077 997.767 L28.3562 997.767 L28.3562 992.165 L25.8736 992.165 Q19.9216 992.165 17.2162 989.396 Q14.479 986.627 14.479 980.611 L14.479 975.073 Z\" fill=\"#000000\" fill-rule=\"evenodd\" fill-opacity=\"1\" /><path clip-path=\"url(#clip690)\" d=\"M32.4621 956.358 Q32.4621 961.069 36.1542 963.806 Q39.8145 966.543 46.212 966.543 Q52.6095 966.543 56.3017 963.838 Q59.9619 961.1 59.9619 956.358 Q59.9619 951.679 56.2698 948.942 Q52.5777 946.205 46.212 946.205 Q39.8781 946.205 36.186 948.942 Q32.4621 951.679 32.4621 956.358 M27.4968 956.358 Q27.4968 948.719 32.4621 944.359 Q37.4273 939.998 46.212 939.998 Q54.9649 939.998 59.9619 944.359 Q64.9272 948.719 64.9272 956.358 Q64.9272 964.029 59.9619 968.389 Q54.9649 972.718 46.212 972.718 Q37.4273 972.718 32.4621 968.389 Q27.4968 964.029 27.4968 956.358 Z\" fill=\"#000000\" fill-rule=\"evenodd\" fill-opacity=\"1\" /><path clip-path=\"url(#clip690)\" d=\"M33.8307 909.634 Q33.2578 910.62 33.0032 911.798 Q32.7167 912.944 32.7167 914.344 Q32.7167 919.31 35.9632 921.983 Q39.1779 924.625 45.2253 924.625 L64.0042 924.625 L64.0042 930.513 L28.3562 930.513 L28.3562 924.625 L33.8944 924.625 Q30.6479 922.779 29.0883 919.819 Q27.4968 916.859 27.4968 912.626 Q27.4968 912.021 27.5923 911.289 Q27.656 910.557 27.8151 909.665 L33.8307 909.634 Z\" fill=\"#000000\" fill-rule=\"evenodd\" fill-opacity=\"1\" /><path clip-path=\"url(#clip690)\" d=\"M35.1993 876.882 Q31.2526 874.686 29.3747 871.63 Q27.4968 868.575 27.4968 864.437 Q27.4968 858.867 31.4117 855.843 Q35.2948 852.82 42.4881 852.82 L64.0042 852.82 L64.0042 858.708 L42.679 858.708 Q37.5546 858.708 35.072 860.522 Q32.5894 862.336 32.5894 866.06 Q32.5894 870.612 35.6131 873.254 Q38.6368 875.895 43.8567 875.895 L64.0042 875.895 L64.0042 881.784 L42.679 881.784 Q37.5228 881.784 35.072 883.598 Q32.5894 885.412 32.5894 889.2 Q32.5894 893.688 35.6449 896.329 Q38.6686 898.971 43.8567 898.971 L64.0042 898.971 L64.0042 904.859 L28.3562 904.859 L28.3562 898.971 L33.8944 898.971 Q30.616 896.966 29.0564 894.165 Q27.4968 891.364 27.4968 887.513 Q27.4968 883.63 29.4702 880.924 Q31.4436 878.187 35.1993 876.882 Z\" fill=\"#000000\" fill-rule=\"evenodd\" fill-opacity=\"1\" /><path clip-path=\"url(#clip690)\" d=\"M46.0847 824.938 Q46.0847 832.036 47.7079 834.773 Q49.3312 837.51 53.2461 837.51 Q56.3653 837.51 58.2114 835.473 Q60.0256 833.404 60.0256 829.871 Q60.0256 825.002 56.5881 822.073 Q53.1188 819.113 47.3897 819.113 L46.0847 819.113 L46.0847 824.938 M43.6657 813.257 L64.0042 813.257 L64.0042 819.113 L58.5933 819.113 Q61.8398 821.118 63.3994 824.11 Q64.9272 827.102 64.9272 831.431 Q64.9272 836.905 61.8716 840.152 Q58.7843 843.367 53.6281 843.367 Q47.6125 843.367 44.5569 839.356 Q41.5014 835.314 41.5014 827.325 L41.5014 819.113 L40.9285 819.113 Q36.8862 819.113 34.6901 821.787 Q32.4621 824.429 32.4621 829.235 Q32.4621 832.29 33.1941 835.187 Q33.9262 838.083 35.3903 840.757 L29.9795 840.757 Q28.7381 837.542 28.1334 834.518 Q27.4968 831.495 27.4968 828.63 Q27.4968 820.896 31.5072 817.076 Q35.5176 813.257 43.6657 813.257 Z\" fill=\"#000000\" fill-rule=\"evenodd\" fill-opacity=\"1\" /><path clip-path=\"url(#clip690)\" d=\"M42.4881 771.561 L64.0042 771.561 L64.0042 777.418 L42.679 777.418 Q37.6183 777.418 35.1038 779.391 Q32.5894 781.365 32.5894 785.311 Q32.5894 790.054 35.6131 792.791 Q38.6368 795.528 43.8567 795.528 L64.0042 795.528 L64.0042 801.417 L28.3562 801.417 L28.3562 795.528 L33.8944 795.528 Q30.6797 793.428 29.0883 790.595 Q27.4968 787.73 27.4968 784.006 Q27.4968 777.864 31.3163 774.712 Q35.1038 771.561 42.4881 771.561 Z\" fill=\"#000000\" fill-rule=\"evenodd\" fill-opacity=\"1\" /><path clip-path=\"url(#clip690)\" d=\"M29.7248 734.227 L35.1993 734.227 Q33.8307 736.709 33.1623 739.224 Q32.4621 741.706 32.4621 744.253 Q32.4621 749.95 36.0905 753.101 Q39.6872 756.252 46.212 756.252 Q52.7369 756.252 56.3653 753.101 Q59.9619 749.95 59.9619 744.253 Q59.9619 741.706 59.2935 739.224 Q58.5933 736.709 57.2247 734.227 L62.6355 734.227 Q63.7814 736.677 64.3543 739.319 Q64.9272 741.929 64.9272 744.889 Q64.9272 752.942 59.8664 757.684 Q54.8057 762.427 46.212 762.427 Q37.491 762.427 32.4939 757.652 Q27.4968 752.846 27.4968 744.507 Q27.4968 741.802 28.0697 739.224 Q28.6108 736.646 29.7248 734.227 Z\" fill=\"#000000\" fill-rule=\"evenodd\" fill-opacity=\"1\" /><path clip-path=\"url(#clip690)\" d=\"M44.7161 693.55 L47.5806 693.55 L47.5806 720.477 Q53.6281 720.095 56.8109 716.848 Q59.9619 713.57 59.9619 707.745 Q59.9619 704.371 59.1344 701.22 Q58.3069 698.038 56.6518 694.918 L62.1899 694.918 Q63.5267 698.069 64.227 701.38 Q64.9272 704.69 64.9272 708.095 Q64.9272 716.625 59.9619 721.622 Q54.9967 726.588 46.5303 726.588 Q37.7774 726.588 32.6531 721.877 Q27.4968 717.135 27.4968 709.114 Q27.4968 701.921 32.1438 697.751 Q36.7589 693.55 44.7161 693.55 M42.9973 699.406 Q38.1912 699.47 35.3266 702.112 Q32.4621 704.722 32.4621 709.05 Q32.4621 713.952 35.2312 716.912 Q38.0002 719.84 43.0292 720.286 L42.9973 699.406 Z\" fill=\"#000000\" fill-rule=\"evenodd\" fill-opacity=\"1\" /><path clip-path=\"url(#clip690)\" d=\"M14.479 663.758 L14.479 650.263 L19.0304 650.263 L19.0304 657.902 L68.0464 657.902 L68.0464 650.263 L72.5979 650.263 L72.5979 663.758 L14.479 663.758 Z\" fill=\"#000000\" fill-rule=\"evenodd\" fill-opacity=\"1\" /><path clip-path=\"url(#clip690)\" d=\"M57.2247 605.13 L44.4614 605.13 L44.4614 615.633 L39.1779 615.633 L39.1779 598.764 L59.58 598.764 Q62.2218 602.488 63.5904 606.976 Q64.9272 611.464 64.9272 616.557 Q64.9272 627.696 58.4342 633.999 Q51.9093 640.269 40.2919 640.269 Q28.6427 640.269 22.1496 633.999 Q15.6248 627.696 15.6248 616.557 Q15.6248 611.91 16.7706 607.74 Q17.9164 603.539 20.1444 600.006 L26.9876 600.006 Q23.9639 603.57 22.4361 607.581 Q20.9083 611.591 20.9083 616.015 Q20.9083 624.736 25.7781 629.129 Q30.6479 633.489 40.2919 633.489 Q49.9041 633.489 54.7739 629.129 Q59.6436 624.736 59.6436 616.015 Q59.6436 612.61 59.0707 609.936 Q58.466 607.263 57.2247 605.13 Z\" fill=\"#000000\" fill-rule=\"evenodd\" fill-opacity=\"1\" /><path clip-path=\"url(#clip690)\" d=\"M14.479 569.227 L19.3487 569.227 L19.3487 574.829 Q19.3487 577.98 20.6219 579.222 Q21.895 580.431 25.2052 580.431 L28.3562 580.431 L28.3562 570.787 L32.9077 570.787 L32.9077 580.431 L64.0042 580.431 L64.0042 586.319 L32.9077 586.319 L32.9077 591.921 L28.3562 591.921 L28.3562 586.319 L25.8736 586.319 Q19.9216 586.319 17.2162 583.55 Q14.479 580.781 14.479 574.766 L14.479 569.227 Z\" fill=\"#000000\" fill-rule=\"evenodd\" fill-opacity=\"1\" /><path clip-path=\"url(#clip690)\" d=\"M14.479 564.326 L14.479 558.469 L64.0042 558.469 L64.0042 564.326 L14.479 564.326 Z\" fill=\"#000000\" fill-rule=\"evenodd\" fill-opacity=\"1\" /><path clip-path=\"url(#clip690)\" d=\"M32.4621 532.402 Q32.4621 537.112 36.1542 539.85 Q39.8145 542.587 46.212 542.587 Q52.6095 542.587 56.3017 539.882 Q59.9619 537.144 59.9619 532.402 Q59.9619 527.723 56.2698 524.986 Q52.5777 522.249 46.212 522.249 Q39.8781 522.249 36.186 524.986 Q32.4621 527.723 32.4621 532.402 M27.4968 532.402 Q27.4968 524.763 32.4621 520.403 Q37.4273 516.042 46.212 516.042 Q54.9649 516.042 59.9619 520.403 Q64.9272 524.763 64.9272 532.402 Q64.9272 540.073 59.9619 544.433 Q54.9649 548.762 46.212 548.762 Q37.4273 548.762 32.4621 544.433 Q27.4968 540.073 27.4968 532.402 Z\" fill=\"#000000\" fill-rule=\"evenodd\" fill-opacity=\"1\" /><path clip-path=\"url(#clip690)\" d=\"M58.657 500.669 L77.5631 500.669 L77.5631 506.557 L28.3562 506.557 L28.3562 500.669 L33.7671 500.669 Q30.5842 498.823 29.0564 496.022 Q27.4968 493.189 27.4968 489.274 Q27.4968 482.781 32.6531 478.739 Q37.8093 474.665 46.212 474.665 Q54.6147 474.665 59.771 478.739 Q64.9272 482.781 64.9272 489.274 Q64.9272 493.189 63.3994 496.022 Q61.8398 498.823 58.657 500.669 M46.212 480.744 Q39.7508 480.744 36.0905 483.418 Q32.3984 486.06 32.3984 490.706 Q32.3984 495.353 36.0905 498.027 Q39.7508 500.669 46.212 500.669 Q52.6732 500.669 56.3653 498.027 Q60.0256 495.353 60.0256 490.706 Q60.0256 486.06 56.3653 483.418 Q52.6732 480.744 46.212 480.744 Z\" fill=\"#000000\" fill-rule=\"evenodd\" fill-opacity=\"1\" /><path clip-path=\"url(#clip690)\" d=\"M29.4065 442.232 L34.9447 442.232 Q33.6716 444.714 33.035 447.388 Q32.3984 450.061 32.3984 452.926 Q32.3984 457.287 33.7352 459.483 Q35.072 461.647 37.7456 461.647 Q39.7826 461.647 40.9603 460.087 Q42.1061 458.528 43.1565 453.817 L43.6021 451.812 Q44.9389 445.574 47.3897 442.964 Q49.8086 440.322 54.1691 440.322 Q59.1344 440.322 62.0308 444.269 Q64.9272 448.184 64.9272 455.059 Q64.9272 457.923 64.3543 461.042 Q63.8132 464.13 62.6992 467.567 L56.6518 467.567 Q58.3387 464.321 59.198 461.17 Q60.0256 458.019 60.0256 454.931 Q60.0256 450.794 58.6251 448.566 Q57.1929 446.338 54.6147 446.338 Q52.2276 446.338 50.9545 447.961 Q49.6813 449.552 48.5037 454.995 L48.0262 457.032 Q46.8804 462.475 44.5251 464.894 Q42.138 467.313 38.0002 467.313 Q32.9713 467.313 30.2341 463.748 Q27.4968 460.183 27.4968 453.626 Q27.4968 450.38 27.9743 447.515 Q28.4517 444.651 29.4065 442.232 Z\" fill=\"#000000\" fill-rule=\"evenodd\" fill-opacity=\"1\" /><path clip-path=\"url(#clip690)\" d=\"M16.4842 420.588 L16.4842 415.177 L70.0516 431.728 L70.0516 437.139 L16.4842 420.588 Z\" fill=\"#000000\" fill-rule=\"evenodd\" fill-opacity=\"1\" /><path clip-path=\"url(#clip690)\" d=\"M29.4065 386.309 L34.9447 386.309 Q33.6716 388.792 33.035 391.465 Q32.3984 394.139 32.3984 397.003 Q32.3984 401.364 33.7352 403.56 Q35.072 405.724 37.7456 405.724 Q39.7826 405.724 40.9603 404.165 Q42.1061 402.605 43.1565 397.894 L43.6021 395.889 Q44.9389 389.651 47.3897 387.041 Q49.8086 384.399 54.1691 384.399 Q59.1344 384.399 62.0308 388.346 Q64.9272 392.261 64.9272 399.136 Q64.9272 402 64.3543 405.12 Q63.8132 408.207 62.6992 411.644 L56.6518 411.644 Q58.3387 408.398 59.198 405.247 Q60.0256 402.096 60.0256 399.008 Q60.0256 394.871 58.6251 392.643 Q57.1929 390.415 54.6147 390.415 Q52.2276 390.415 50.9545 392.038 Q49.6813 393.629 48.5037 399.072 L48.0262 401.109 Q46.8804 406.552 44.5251 408.971 Q42.138 411.39 38.0002 411.39 Q32.9713 411.39 30.2341 407.825 Q27.4968 404.26 27.4968 397.704 Q27.4968 394.457 27.9743 391.592 Q28.4517 388.728 29.4065 386.309 Z\" fill=\"#000000\" fill-rule=\"evenodd\" fill-opacity=\"1\" /><path clip-path=\"url(#clip690)\" d=\"M14.479 361.387 L72.5979 361.387 L72.5979 374.882 L68.0464 374.882 L68.0464 367.275 L19.0304 367.275 L19.0304 374.882 L14.479 374.882 L14.479 361.387 Z\" fill=\"#000000\" fill-rule=\"evenodd\" fill-opacity=\"1\" /><polyline clip-path=\"url(#clip692)\" style=\"stroke:#0000ff; stroke-linecap:butt; stroke-linejoin:round; stroke-width:8; stroke-opacity:1; fill:none\" points=\"\n",
       "  251.071,1371.57 260.75,1363.01 350.243,1283.93 404.025,1236.41 449.497,1196.23 498.893,1152.58 544.431,1112.34 593.252,1069.2 649.817,1019.21 700.085,974.794 \n",
       "  744.165,935.842 792.225,893.374 840.57,850.654 894.022,803.421 944.88,758.48 997.76,711.752 1042.27,672.417 1096.62,624.393 1147.71,579.249 1229.55,506.925 \n",
       "  1242.15,495.795 \n",
       "  \"/>\n",
       "<polyline clip-path=\"url(#clip692)\" style=\"stroke:#0000ff; stroke-linecap:butt; stroke-linejoin:round; stroke-width:8; stroke-opacity:1; fill:none\" stroke-dasharray=\"32, 20\" points=\"\n",
       "  1242.15,495.795 1390.09,365.066 1545.31,227.908 1575.4,201.317 1593.53,185.293 1609.05,171.584 1620.83,161.17 1631.6,151.659 1642.3,142.202 1650.61,134.859 \n",
       "  1657.17,129.065 1663.68,123.31 1669.67,118.014 1675.75,112.64 1681.09,107.927 1686.23,103.378 1690.29,99.7914 1694.95,95.6765 1699.06,92.0424 1705.19,86.6305 \n",
       "  1706.08,85.838 \n",
       "  \"/>\n",
       "<polyline clip-path=\"url(#clip692)\" style=\"stroke:#008000; stroke-linecap:butt; stroke-linejoin:round; stroke-width:8; stroke-opacity:1; fill:none\" points=\"\n",
       "  1242.15,495.795 2352.76,495.795 \n",
       "  \"/>\n",
       "<polyline clip-path=\"url(#clip692)\" style=\"stroke:#008000; stroke-linecap:butt; stroke-linejoin:round; stroke-width:8; stroke-opacity:1; fill:none\" stroke-dasharray=\"32, 20\" points=\"\n",
       "  251.071,495.795 1242.15,495.795 \n",
       "  \"/>\n",
       "<polyline clip-path=\"url(#clip692)\" style=\"stroke:#ff0000; stroke-linecap:butt; stroke-linejoin:round; stroke-width:8; stroke-opacity:1; fill:none\" points=\"\n",
       "  836.275,1372.3 836.275,854.448 \n",
       "  \"/>\n",
       "<polyline clip-path=\"url(#clip692)\" style=\"stroke:#ff0000; stroke-linecap:butt; stroke-linejoin:round; stroke-width:8; stroke-opacity:1; fill:none\" stroke-dasharray=\"32, 20\" points=\"\n",
       "  251.071,854.448 836.275,854.448 \n",
       "  \"/>\n",
       "<path clip-path=\"url(#clip690)\" d=\"\n",
       "M1544.62 1365.44 L2282.7 1365.44 L2282.7 1063.04 L1544.62 1063.04  Z\n",
       "  \" fill=\"#ffffff\" fill-rule=\"evenodd\" fill-opacity=\"1\"/>\n",
       "<polyline clip-path=\"url(#clip690)\" style=\"stroke:#000000; stroke-linecap:butt; stroke-linejoin:round; stroke-width:4; stroke-opacity:1; fill:none\" points=\"\n",
       "  1544.62,1365.44 2282.7,1365.44 2282.7,1063.04 1544.62,1063.04 1544.62,1365.44 \n",
       "  \"/>\n",
       "<polyline clip-path=\"url(#clip690)\" style=\"stroke:#0000ff; stroke-linecap:butt; stroke-linejoin:round; stroke-width:4; stroke-opacity:1; fill:none\" points=\"\n",
       "  1567.97,1123.52 1708.09,1123.52 \n",
       "  \"/>\n",
       "<path clip-path=\"url(#clip690)\" d=\"M1731.44 1106.24 L1738.41 1106.24 L1747.23 1129.76 L1756.09 1106.24 L1763.06 1106.24 L1763.06 1140.8 L1758.5 1140.8 L1758.5 1110.45 L1749.59 1134.16 L1744.89 1134.16 L1735.98 1110.45 L1735.98 1140.8 L1731.44 1140.8 L1731.44 1106.24 Z\" fill=\"#000000\" fill-rule=\"evenodd\" fill-opacity=\"1\" /><path clip-path=\"url(#clip690)\" d=\"M1794.33 1126.77 L1794.33 1128.86 L1774.75 1128.86 Q1775.03 1133.26 1777.39 1135.57 Q1779.77 1137.86 1784.01 1137.86 Q1786.46 1137.86 1788.75 1137.26 Q1791.07 1136.66 1793.34 1135.45 L1793.34 1139.48 Q1791.04 1140.45 1788.64 1140.96 Q1786.23 1141.47 1783.75 1141.47 Q1777.55 1141.47 1773.91 1137.86 Q1770.3 1134.25 1770.3 1128.09 Q1770.3 1121.73 1773.73 1118 Q1777.18 1114.25 1783.01 1114.25 Q1788.24 1114.25 1791.28 1117.63 Q1794.33 1120.99 1794.33 1126.77 M1790.07 1125.52 Q1790.03 1122.03 1788.1 1119.95 Q1786.21 1117.86 1783.06 1117.86 Q1779.49 1117.86 1777.34 1119.88 Q1775.21 1121.89 1774.89 1125.55 L1790.07 1125.52 Z\" fill=\"#000000\" fill-rule=\"evenodd\" fill-opacity=\"1\" /><path clip-path=\"url(#clip690)\" d=\"M1821.51 1119.85 Q1823.1 1116.98 1825.33 1115.62 Q1827.55 1114.25 1830.56 1114.25 Q1834.61 1114.25 1836.81 1117.1 Q1839.01 1119.92 1839.01 1125.15 L1839.01 1140.8 L1834.72 1140.8 L1834.72 1125.29 Q1834.72 1121.57 1833.41 1119.76 Q1832.09 1117.95 1829.38 1117.95 Q1826.07 1117.95 1824.15 1120.15 Q1822.22 1122.35 1822.22 1126.15 L1822.22 1140.8 L1817.94 1140.8 L1817.94 1125.29 Q1817.94 1121.54 1816.62 1119.76 Q1815.3 1117.95 1812.55 1117.95 Q1809.28 1117.95 1807.36 1120.18 Q1805.44 1122.38 1805.44 1126.15 L1805.44 1140.8 L1801.16 1140.8 L1801.16 1114.88 L1805.44 1114.88 L1805.44 1118.9 Q1806.9 1116.52 1808.94 1115.39 Q1810.97 1114.25 1813.78 1114.25 Q1816.6 1114.25 1818.57 1115.69 Q1820.56 1117.12 1821.51 1119.85 Z\" fill=\"#000000\" fill-rule=\"evenodd\" fill-opacity=\"1\" /><path clip-path=\"url(#clip690)\" d=\"M1857.55 1117.86 Q1854.12 1117.86 1852.13 1120.55 Q1850.14 1123.21 1850.14 1127.86 Q1850.14 1132.51 1852.11 1135.2 Q1854.1 1137.86 1857.55 1137.86 Q1860.95 1137.86 1862.94 1135.18 Q1864.93 1132.49 1864.93 1127.86 Q1864.93 1123.26 1862.94 1120.57 Q1860.95 1117.86 1857.55 1117.86 M1857.55 1114.25 Q1863.1 1114.25 1866.28 1117.86 Q1869.45 1121.47 1869.45 1127.86 Q1869.45 1134.23 1866.28 1137.86 Q1863.1 1141.47 1857.55 1141.47 Q1851.97 1141.47 1848.8 1137.86 Q1845.65 1134.23 1845.65 1127.86 Q1845.65 1121.47 1848.8 1117.86 Q1851.97 1114.25 1857.55 1114.25 Z\" fill=\"#000000\" fill-rule=\"evenodd\" fill-opacity=\"1\" /><path clip-path=\"url(#clip690)\" d=\"M1891.53 1118.86 Q1890.81 1118.44 1889.96 1118.26 Q1889.12 1118.05 1888.1 1118.05 Q1884.49 1118.05 1882.55 1120.41 Q1880.63 1122.75 1880.63 1127.14 L1880.63 1140.8 L1876.34 1140.8 L1876.34 1114.88 L1880.63 1114.88 L1880.63 1118.9 Q1881.97 1116.54 1884.12 1115.41 Q1886.28 1114.25 1889.35 1114.25 Q1889.79 1114.25 1890.33 1114.32 Q1890.86 1114.37 1891.51 1114.48 L1891.53 1118.86 Z\" fill=\"#000000\" fill-rule=\"evenodd\" fill-opacity=\"1\" /><path clip-path=\"url(#clip690)\" d=\"M1906.78 1143.21 Q1904.98 1147.84 1903.27 1149.25 Q1901.55 1150.66 1898.68 1150.66 L1895.28 1150.66 L1895.28 1147.1 L1897.78 1147.1 Q1899.54 1147.1 1900.51 1146.26 Q1901.48 1145.43 1902.66 1142.33 L1903.43 1140.38 L1892.94 1114.88 L1897.46 1114.88 L1905.56 1135.15 L1913.66 1114.88 L1918.17 1114.88 L1906.78 1143.21 Z\" fill=\"#000000\" fill-rule=\"evenodd\" fill-opacity=\"1\" /><path clip-path=\"url(#clip690)\" d=\"M1957.73 1127.86 Q1957.73 1123.16 1955.79 1120.5 Q1953.87 1117.82 1950.49 1117.82 Q1947.11 1117.82 1945.16 1120.5 Q1943.24 1123.16 1943.24 1127.86 Q1943.24 1132.56 1945.16 1135.25 Q1947.11 1137.91 1950.49 1137.91 Q1953.87 1137.91 1955.79 1135.25 Q1957.73 1132.56 1957.73 1127.86 M1943.24 1118.81 Q1944.59 1116.5 1946.62 1115.39 Q1948.68 1114.25 1951.53 1114.25 Q1956.25 1114.25 1959.19 1118 Q1962.15 1121.75 1962.15 1127.86 Q1962.15 1133.97 1959.19 1137.72 Q1956.25 1141.47 1951.53 1141.47 Q1948.68 1141.47 1946.62 1140.36 Q1944.59 1139.23 1943.24 1136.91 L1943.24 1140.8 L1938.96 1140.8 L1938.96 1104.78 L1943.24 1104.78 L1943.24 1118.81 Z\" fill=\"#000000\" fill-rule=\"evenodd\" fill-opacity=\"1\" /><path clip-path=\"url(#clip690)\" d=\"M1979.26 1117.86 Q1975.84 1117.86 1973.84 1120.55 Q1971.85 1123.21 1971.85 1127.86 Q1971.85 1132.51 1973.82 1135.2 Q1975.81 1137.86 1979.26 1137.86 Q1982.66 1137.86 1984.65 1135.18 Q1986.65 1132.49 1986.65 1127.86 Q1986.65 1123.26 1984.65 1120.57 Q1982.66 1117.86 1979.26 1117.86 M1979.26 1114.25 Q1984.82 1114.25 1987.99 1117.86 Q1991.16 1121.47 1991.16 1127.86 Q1991.16 1134.23 1987.99 1137.86 Q1984.82 1141.47 1979.26 1141.47 Q1973.68 1141.47 1970.51 1137.86 Q1967.36 1134.23 1967.36 1127.86 Q1967.36 1121.47 1970.51 1117.86 Q1973.68 1114.25 1979.26 1114.25 Z\" fill=\"#000000\" fill-rule=\"evenodd\" fill-opacity=\"1\" /><path clip-path=\"url(#clip690)\" d=\"M1997.78 1130.57 L1997.78 1114.88 L2002.04 1114.88 L2002.04 1130.41 Q2002.04 1134.09 2003.47 1135.94 Q2004.91 1137.77 2007.78 1137.77 Q2011.23 1137.77 2013.22 1135.57 Q2015.23 1133.37 2015.23 1129.57 L2015.23 1114.88 L2019.49 1114.88 L2019.49 1140.8 L2015.23 1140.8 L2015.23 1136.82 Q2013.68 1139.18 2011.62 1140.34 Q2009.58 1141.47 2006.88 1141.47 Q2002.41 1141.47 2000.09 1138.7 Q1997.78 1135.92 1997.78 1130.57 M2008.5 1114.25 L2008.5 1114.25 Z\" fill=\"#000000\" fill-rule=\"evenodd\" fill-opacity=\"1\" /><path clip-path=\"url(#clip690)\" d=\"M2049.82 1125.15 L2049.82 1140.8 L2045.56 1140.8 L2045.56 1125.29 Q2045.56 1121.61 2044.12 1119.78 Q2042.69 1117.95 2039.82 1117.95 Q2036.37 1117.95 2034.38 1120.15 Q2032.39 1122.35 2032.39 1126.15 L2032.39 1140.8 L2028.1 1140.8 L2028.1 1114.88 L2032.39 1114.88 L2032.39 1118.9 Q2033.91 1116.57 2035.97 1115.41 Q2038.06 1114.25 2040.77 1114.25 Q2045.23 1114.25 2047.52 1117.03 Q2049.82 1119.78 2049.82 1125.15 Z\" fill=\"#000000\" fill-rule=\"evenodd\" fill-opacity=\"1\" /><path clip-path=\"url(#clip690)\" d=\"M2075.37 1118.81 L2075.37 1104.78 L2079.63 1104.78 L2079.63 1140.8 L2075.37 1140.8 L2075.37 1136.91 Q2074.03 1139.23 2071.97 1140.36 Q2069.93 1141.47 2067.06 1141.47 Q2062.36 1141.47 2059.4 1137.72 Q2056.46 1133.97 2056.46 1127.86 Q2056.46 1121.75 2059.4 1118 Q2062.36 1114.25 2067.06 1114.25 Q2069.93 1114.25 2071.97 1115.39 Q2074.03 1116.5 2075.37 1118.81 M2060.86 1127.86 Q2060.86 1132.56 2062.78 1135.25 Q2064.72 1137.91 2068.1 1137.91 Q2071.48 1137.91 2073.43 1135.25 Q2075.37 1132.56 2075.37 1127.86 Q2075.37 1123.16 2073.43 1120.5 Q2071.48 1117.82 2068.1 1117.82 Q2064.72 1117.82 2062.78 1120.5 Q2060.86 1123.16 2060.86 1127.86 Z\" fill=\"#000000\" fill-rule=\"evenodd\" fill-opacity=\"1\" /><path clip-path=\"url(#clip690)\" d=\"M2113.7 1104.83 Q2110.6 1110.15 2109.1 1115.36 Q2107.59 1120.57 2107.59 1125.92 Q2107.59 1131.26 2109.1 1136.52 Q2110.63 1141.75 2113.7 1147.05 L2110 1147.05 Q2106.53 1141.61 2104.79 1136.36 Q2103.08 1131.1 2103.08 1125.92 Q2103.08 1120.76 2104.79 1115.52 Q2106.51 1110.29 2110 1104.83 L2113.7 1104.83 Z\" fill=\"#000000\" fill-rule=\"evenodd\" fill-opacity=\"1\" /><path clip-path=\"url(#clip690)\" d=\"M2122.15 1106.24 L2126.83 1106.24 L2126.83 1140.8 L2122.15 1140.8 L2122.15 1106.24 Z\" fill=\"#000000\" fill-rule=\"evenodd\" fill-opacity=\"1\" /><path clip-path=\"url(#clip690)\" d=\"M2153.77 1111.94 L2145.46 1116.43 L2153.77 1120.94 L2152.43 1123.21 L2144.65 1118.51 L2144.65 1127.24 L2142.01 1127.24 L2142.01 1118.51 L2134.24 1123.21 L2132.89 1120.94 L2141.2 1116.43 L2132.89 1111.94 L2134.24 1109.64 L2142.01 1114.34 L2142.01 1105.62 L2144.65 1105.62 L2144.65 1114.34 L2152.43 1109.64 L2153.77 1111.94 Z\" fill=\"#000000\" fill-rule=\"evenodd\" fill-opacity=\"1\" /><path clip-path=\"url(#clip690)\" d=\"M2178.26 1127.86 Q2178.26 1123.16 2176.32 1120.5 Q2174.4 1117.82 2171.02 1117.82 Q2167.64 1117.82 2165.7 1120.5 Q2163.77 1123.16 2163.77 1127.86 Q2163.77 1132.56 2165.7 1135.25 Q2167.64 1137.91 2171.02 1137.91 Q2174.4 1137.91 2176.32 1135.25 Q2178.26 1132.56 2178.26 1127.86 M2163.77 1118.81 Q2165.12 1116.5 2167.15 1115.39 Q2169.21 1114.25 2172.06 1114.25 Q2176.78 1114.25 2179.72 1118 Q2182.69 1121.75 2182.69 1127.86 Q2182.69 1133.97 2179.72 1137.72 Q2176.78 1141.47 2172.06 1141.47 Q2169.21 1141.47 2167.15 1140.36 Q2165.12 1139.23 2163.77 1136.91 L2163.77 1140.8 L2159.49 1140.8 L2159.49 1104.78 L2163.77 1104.78 L2163.77 1118.81 Z\" fill=\"#000000\" fill-rule=\"evenodd\" fill-opacity=\"1\" /><path clip-path=\"url(#clip690)\" d=\"M2206.27 1115.64 L2206.27 1119.67 Q2204.47 1118.74 2202.52 1118.28 Q2200.58 1117.82 2198.5 1117.82 Q2195.32 1117.82 2193.73 1118.79 Q2192.15 1119.76 2192.15 1121.7 Q2192.15 1123.19 2193.29 1124.04 Q2194.42 1124.88 2197.85 1125.64 L2199.31 1125.96 Q2203.84 1126.94 2205.74 1128.72 Q2207.66 1130.48 2207.66 1133.65 Q2207.66 1137.26 2204.79 1139.37 Q2201.94 1141.47 2196.94 1141.47 Q2194.86 1141.47 2192.59 1141.06 Q2190.35 1140.66 2187.85 1139.85 L2187.85 1135.45 Q2190.21 1136.68 2192.5 1137.31 Q2194.79 1137.91 2197.04 1137.91 Q2200.05 1137.91 2201.67 1136.89 Q2203.29 1135.85 2203.29 1133.97 Q2203.29 1132.24 2202.11 1131.31 Q2200.95 1130.38 2196.99 1129.53 L2195.51 1129.18 Q2191.55 1128.35 2189.79 1126.63 Q2188.03 1124.9 2188.03 1121.89 Q2188.03 1118.23 2190.63 1116.24 Q2193.22 1114.25 2197.99 1114.25 Q2200.35 1114.25 2202.43 1114.6 Q2204.51 1114.95 2206.27 1115.64 Z\" fill=\"#000000\" fill-rule=\"evenodd\" fill-opacity=\"1\" /><path clip-path=\"url(#clip690)\" d=\"M2213.77 1104.83 L2217.48 1104.83 Q2220.95 1110.29 2222.66 1115.52 Q2224.4 1120.76 2224.4 1125.92 Q2224.4 1131.1 2222.66 1136.36 Q2220.95 1141.61 2217.48 1147.05 L2213.77 1147.05 Q2216.85 1141.75 2218.36 1136.52 Q2219.88 1131.26 2219.88 1125.92 Q2219.88 1120.57 2218.36 1115.36 Q2216.85 1110.15 2213.77 1104.83 Z\" fill=\"#000000\" fill-rule=\"evenodd\" fill-opacity=\"1\" /><polyline clip-path=\"url(#clip690)\" style=\"stroke:#008000; stroke-linecap:butt; stroke-linejoin:round; stroke-width:4; stroke-opacity:1; fill:none\" points=\"\n",
       "  1567.97,1184 1708.09,1184 \n",
       "  \"/>\n",
       "<path clip-path=\"url(#clip690)\" d=\"M1759.31 1169.38 L1759.31 1174.31 Q1756.95 1172.12 1754.26 1171.03 Q1751.6 1169.94 1748.59 1169.94 Q1742.66 1169.94 1739.52 1173.57 Q1736.37 1177.18 1736.37 1184.04 Q1736.37 1190.86 1739.52 1194.5 Q1742.66 1198.11 1748.59 1198.11 Q1751.6 1198.11 1754.26 1197.02 Q1756.95 1195.93 1759.31 1193.74 L1759.31 1198.62 Q1756.85 1200.29 1754.1 1201.12 Q1751.37 1201.95 1748.31 1201.95 Q1740.47 1201.95 1735.95 1197.16 Q1731.44 1192.35 1731.44 1184.04 Q1731.44 1175.7 1735.95 1170.91 Q1740.47 1166.1 1748.31 1166.1 Q1751.41 1166.1 1754.15 1166.93 Q1756.9 1167.74 1759.31 1169.38 Z\" fill=\"#000000\" fill-rule=\"evenodd\" fill-opacity=\"1\" /><path clip-path=\"url(#clip690)\" d=\"M1771.21 1170.56 L1771.21 1183.55 L1777.09 1183.55 Q1780.35 1183.55 1782.13 1181.86 Q1783.91 1180.17 1783.91 1177.05 Q1783.91 1173.94 1782.13 1172.25 Q1780.35 1170.56 1777.09 1170.56 L1771.21 1170.56 M1766.53 1166.72 L1777.09 1166.72 Q1782.9 1166.72 1785.86 1169.36 Q1788.85 1171.98 1788.85 1177.05 Q1788.85 1182.16 1785.86 1184.78 Q1782.9 1187.39 1777.09 1187.39 L1771.21 1187.39 L1771.21 1201.28 L1766.53 1201.28 L1766.53 1166.72 Z\" fill=\"#000000\" fill-rule=\"evenodd\" fill-opacity=\"1\" /><path clip-path=\"url(#clip690)\" d=\"M1794.59 1166.72 L1799.29 1166.72 L1799.29 1187.72 Q1799.29 1193.27 1801.3 1195.73 Q1803.31 1198.16 1807.83 1198.16 Q1812.32 1198.16 1814.33 1195.73 Q1816.35 1193.27 1816.35 1187.72 L1816.35 1166.72 L1821.04 1166.72 L1821.04 1188.3 Q1821.04 1195.05 1817.69 1198.5 Q1814.35 1201.95 1807.83 1201.95 Q1801.28 1201.95 1797.92 1198.5 Q1794.59 1195.05 1794.59 1188.3 L1794.59 1166.72 Z\" fill=\"#000000\" fill-rule=\"evenodd\" fill-opacity=\"1\" /><path clip-path=\"url(#clip690)\" d=\"M1863.31 1188.34 Q1863.31 1183.64 1861.37 1180.98 Q1859.45 1178.3 1856.07 1178.3 Q1852.69 1178.3 1850.74 1180.98 Q1848.82 1183.64 1848.82 1188.34 Q1848.82 1193.04 1850.74 1195.73 Q1852.69 1198.39 1856.07 1198.39 Q1859.45 1198.39 1861.37 1195.73 Q1863.31 1193.04 1863.31 1188.34 M1848.82 1179.29 Q1850.16 1176.98 1852.2 1175.87 Q1854.26 1174.73 1857.11 1174.73 Q1861.83 1174.73 1864.77 1178.48 Q1867.73 1182.23 1867.73 1188.34 Q1867.73 1194.45 1864.77 1198.2 Q1861.83 1201.95 1857.11 1201.95 Q1854.26 1201.95 1852.2 1200.84 Q1850.16 1199.71 1848.82 1197.39 L1848.82 1201.28 L1844.54 1201.28 L1844.54 1165.26 L1848.82 1165.26 L1848.82 1179.29 Z\" fill=\"#000000\" fill-rule=\"evenodd\" fill-opacity=\"1\" /><path clip-path=\"url(#clip690)\" d=\"M1884.84 1178.34 Q1881.41 1178.34 1879.42 1181.03 Q1877.43 1183.69 1877.43 1188.34 Q1877.43 1192.99 1879.4 1195.68 Q1881.39 1198.34 1884.84 1198.34 Q1888.24 1198.34 1890.23 1195.66 Q1892.22 1192.97 1892.22 1188.34 Q1892.22 1183.74 1890.23 1181.05 Q1888.24 1178.34 1884.84 1178.34 M1884.84 1174.73 Q1890.4 1174.73 1893.57 1178.34 Q1896.74 1181.95 1896.74 1188.34 Q1896.74 1194.71 1893.57 1198.34 Q1890.4 1201.95 1884.84 1201.95 Q1879.26 1201.95 1876.09 1198.34 Q1872.94 1194.71 1872.94 1188.34 Q1872.94 1181.95 1876.09 1178.34 Q1879.26 1174.73 1884.84 1174.73 Z\" fill=\"#000000\" fill-rule=\"evenodd\" fill-opacity=\"1\" /><path clip-path=\"url(#clip690)\" d=\"M1903.36 1191.05 L1903.36 1175.36 L1907.62 1175.36 L1907.62 1190.89 Q1907.62 1194.57 1909.05 1196.42 Q1910.49 1198.25 1913.36 1198.25 Q1916.81 1198.25 1918.8 1196.05 Q1920.81 1193.85 1920.81 1190.05 L1920.81 1175.36 L1925.07 1175.36 L1925.07 1201.28 L1920.81 1201.28 L1920.81 1197.3 Q1919.26 1199.66 1917.2 1200.82 Q1915.16 1201.95 1912.46 1201.95 Q1907.99 1201.95 1905.67 1199.18 Q1903.36 1196.4 1903.36 1191.05 M1914.08 1174.73 L1914.08 1174.73 Z\" fill=\"#000000\" fill-rule=\"evenodd\" fill-opacity=\"1\" /><path clip-path=\"url(#clip690)\" d=\"M1955.4 1185.63 L1955.4 1201.28 L1951.14 1201.28 L1951.14 1185.77 Q1951.14 1182.09 1949.7 1180.26 Q1948.27 1178.43 1945.4 1178.43 Q1941.95 1178.43 1939.96 1180.63 Q1937.96 1182.83 1937.96 1186.63 L1937.96 1201.28 L1933.68 1201.28 L1933.68 1175.36 L1937.96 1175.36 L1937.96 1179.38 Q1939.49 1177.05 1941.55 1175.89 Q1943.64 1174.73 1946.34 1174.73 Q1950.81 1174.73 1953.1 1177.51 Q1955.4 1180.26 1955.4 1185.63 Z\" fill=\"#000000\" fill-rule=\"evenodd\" fill-opacity=\"1\" /><path clip-path=\"url(#clip690)\" d=\"M1980.95 1179.29 L1980.95 1165.26 L1985.21 1165.26 L1985.21 1201.28 L1980.95 1201.28 L1980.95 1197.39 Q1979.61 1199.71 1977.55 1200.84 Q1975.51 1201.95 1972.64 1201.95 Q1967.94 1201.95 1964.98 1198.2 Q1962.04 1194.45 1962.04 1188.34 Q1962.04 1182.23 1964.98 1178.48 Q1967.94 1174.73 1972.64 1174.73 Q1975.51 1174.73 1977.55 1175.87 Q1979.61 1176.98 1980.95 1179.29 M1966.44 1188.34 Q1966.44 1193.04 1968.36 1195.73 Q1970.3 1198.39 1973.68 1198.39 Q1977.06 1198.39 1979.01 1195.73 Q1980.95 1193.04 1980.95 1188.34 Q1980.95 1183.64 1979.01 1180.98 Q1977.06 1178.3 1973.68 1178.3 Q1970.3 1178.3 1968.36 1180.98 Q1966.44 1183.64 1966.44 1188.34 Z\" fill=\"#000000\" fill-rule=\"evenodd\" fill-opacity=\"1\" /><path clip-path=\"url(#clip690)\" d=\"M2019.28 1165.31 Q2016.18 1170.63 2014.68 1175.84 Q2013.17 1181.05 2013.17 1186.4 Q2013.17 1191.74 2014.68 1197 Q2016.21 1202.23 2019.28 1207.53 L2015.58 1207.53 Q2012.11 1202.09 2010.37 1196.84 Q2008.66 1191.58 2008.66 1186.4 Q2008.66 1181.24 2010.37 1176 Q2012.08 1170.77 2015.58 1165.31 L2019.28 1165.31 Z\" fill=\"#000000\" fill-rule=\"evenodd\" fill-opacity=\"1\" /><path clip-path=\"url(#clip690)\" d=\"M2032.41 1170.56 L2032.41 1183.55 L2038.29 1183.55 Q2041.55 1183.55 2043.33 1181.86 Q2045.12 1180.17 2045.12 1177.05 Q2045.12 1173.94 2043.33 1172.25 Q2041.55 1170.56 2038.29 1170.56 L2032.41 1170.56 M2027.73 1166.72 L2038.29 1166.72 Q2044.1 1166.72 2047.06 1169.36 Q2050.05 1171.98 2050.05 1177.05 Q2050.05 1182.16 2047.06 1184.78 Q2044.1 1187.39 2038.29 1187.39 L2032.41 1187.39 L2032.41 1201.28 L2027.73 1201.28 L2027.73 1166.72 Z\" fill=\"#000000\" fill-rule=\"evenodd\" fill-opacity=\"1\" /><path clip-path=\"url(#clip690)\" d=\"M2075.83 1209.15 L2075.83 1212.46 L2051.2 1212.46 L2051.2 1209.15 L2075.83 1209.15 Z\" fill=\"#000000\" fill-rule=\"evenodd\" fill-opacity=\"1\" /><path clip-path=\"url(#clip690)\" d=\"M2083.96 1197.39 L2083.96 1211.14 L2079.68 1211.14 L2079.68 1175.36 L2083.96 1175.36 L2083.96 1179.29 Q2085.3 1176.98 2087.34 1175.87 Q2089.4 1174.73 2092.25 1174.73 Q2096.97 1174.73 2099.91 1178.48 Q2102.87 1182.23 2102.87 1188.34 Q2102.87 1194.45 2099.91 1198.2 Q2096.97 1201.95 2092.25 1201.95 Q2089.4 1201.95 2087.34 1200.84 Q2085.3 1199.71 2083.96 1197.39 M2098.45 1188.34 Q2098.45 1183.64 2096.51 1180.98 Q2094.58 1178.3 2091.2 1178.3 Q2087.83 1178.3 2085.88 1180.98 Q2083.96 1183.64 2083.96 1188.34 Q2083.96 1193.04 2085.88 1195.73 Q2087.83 1198.39 2091.2 1198.39 Q2094.58 1198.39 2096.51 1195.73 Q2098.45 1193.04 2098.45 1188.34 Z\" fill=\"#000000\" fill-rule=\"evenodd\" fill-opacity=\"1\" /><path clip-path=\"url(#clip690)\" d=\"M2132.11 1187.25 L2132.11 1189.34 L2112.52 1189.34 Q2112.8 1193.74 2115.16 1196.05 Q2117.55 1198.34 2121.78 1198.34 Q2124.24 1198.34 2126.53 1197.74 Q2128.84 1197.14 2131.11 1195.93 L2131.11 1199.96 Q2128.82 1200.93 2126.41 1201.44 Q2124.01 1201.95 2121.53 1201.95 Q2115.32 1201.95 2111.69 1198.34 Q2108.08 1194.73 2108.08 1188.57 Q2108.08 1182.21 2111.51 1178.48 Q2114.95 1174.73 2120.79 1174.73 Q2126.02 1174.73 2129.05 1178.11 Q2132.11 1181.47 2132.11 1187.25 M2127.85 1186 Q2127.8 1182.51 2125.88 1180.43 Q2123.98 1178.34 2120.83 1178.34 Q2117.27 1178.34 2115.12 1180.36 Q2112.99 1182.37 2112.66 1186.03 L2127.85 1186 Z\" fill=\"#000000\" fill-rule=\"evenodd\" fill-opacity=\"1\" /><path clip-path=\"url(#clip690)\" d=\"M2150.88 1188.25 Q2145.72 1188.25 2143.73 1189.43 Q2141.74 1190.61 2141.74 1193.46 Q2141.74 1195.73 2143.22 1197.07 Q2144.72 1198.39 2147.29 1198.39 Q2150.83 1198.39 2152.96 1195.89 Q2155.12 1193.36 2155.12 1189.2 L2155.12 1188.25 L2150.88 1188.25 M2159.38 1186.49 L2159.38 1201.28 L2155.12 1201.28 L2155.12 1197.35 Q2153.66 1199.71 2151.48 1200.84 Q2149.31 1201.95 2146.16 1201.95 Q2142.18 1201.95 2139.82 1199.73 Q2137.48 1197.49 2137.48 1193.74 Q2137.48 1189.36 2140.39 1187.14 Q2143.33 1184.92 2149.14 1184.92 L2155.12 1184.92 L2155.12 1184.5 Q2155.12 1181.56 2153.17 1179.96 Q2151.25 1178.34 2147.76 1178.34 Q2145.53 1178.34 2143.43 1178.87 Q2141.32 1179.41 2139.38 1180.47 L2139.38 1176.54 Q2141.71 1175.63 2143.91 1175.19 Q2146.11 1174.73 2148.2 1174.73 Q2153.82 1174.73 2156.6 1177.65 Q2159.38 1180.56 2159.38 1186.49 Z\" fill=\"#000000\" fill-rule=\"evenodd\" fill-opacity=\"1\" /><path clip-path=\"url(#clip690)\" d=\"M2167.99 1165.26 L2172.27 1165.26 L2172.27 1186.54 L2184.98 1175.36 L2190.42 1175.36 L2176.67 1187.49 L2191 1201.28 L2185.44 1201.28 L2172.27 1188.62 L2172.27 1201.28 L2167.99 1201.28 L2167.99 1165.26 Z\" fill=\"#000000\" fill-rule=\"evenodd\" fill-opacity=\"1\" /><path clip-path=\"url(#clip690)\" d=\"M2194.93 1165.31 L2198.63 1165.31 Q2202.11 1170.77 2203.82 1176 Q2205.56 1181.24 2205.56 1186.4 Q2205.56 1191.58 2203.82 1196.84 Q2202.11 1202.09 2198.63 1207.53 L2194.93 1207.53 Q2198.01 1202.23 2199.51 1197 Q2201.04 1191.74 2201.04 1186.4 Q2201.04 1181.05 2199.51 1175.84 Q2198.01 1170.63 2194.93 1165.31 Z\" fill=\"#000000\" fill-rule=\"evenodd\" fill-opacity=\"1\" /><polyline clip-path=\"url(#clip690)\" style=\"stroke:#ff0000; stroke-linecap:butt; stroke-linejoin:round; stroke-width:4; stroke-opacity:1; fill:none\" points=\"\n",
       "  1567.97,1244.48 1708.09,1244.48 \n",
       "  \"/>\n",
       "<path clip-path=\"url(#clip690)\" d=\"M1731.44 1227.2 L1736.11 1227.2 L1736.11 1261.76 L1731.44 1261.76 L1731.44 1227.2 Z\" fill=\"#000000\" fill-rule=\"evenodd\" fill-opacity=\"1\" /><path clip-path=\"url(#clip690)\" d=\"M1766.79 1246.11 L1766.79 1261.76 L1762.53 1261.76 L1762.53 1246.25 Q1762.53 1242.57 1761.09 1240.74 Q1759.66 1238.91 1756.79 1238.91 Q1753.34 1238.91 1751.35 1241.11 Q1749.35 1243.31 1749.35 1247.11 L1749.35 1261.76 L1745.07 1261.76 L1745.07 1235.84 L1749.35 1235.84 L1749.35 1239.86 Q1750.88 1237.53 1752.94 1236.37 Q1755.03 1235.21 1757.73 1235.21 Q1762.2 1235.21 1764.49 1237.99 Q1766.79 1240.74 1766.79 1246.11 Z\" fill=\"#000000\" fill-rule=\"evenodd\" fill-opacity=\"1\" /><path clip-path=\"url(#clip690)\" d=\"M1779.49 1228.47 L1779.49 1235.84 L1788.27 1235.84 L1788.27 1239.15 L1779.49 1239.15 L1779.49 1253.22 Q1779.49 1256.39 1780.35 1257.29 Q1781.23 1258.2 1783.89 1258.2 L1788.27 1258.2 L1788.27 1261.76 L1783.89 1261.76 Q1778.96 1261.76 1777.09 1259.93 Q1775.21 1258.08 1775.21 1253.22 L1775.21 1239.15 L1772.09 1239.15 L1772.09 1235.84 L1775.21 1235.84 L1775.21 1228.47 L1779.49 1228.47 Z\" fill=\"#000000\" fill-rule=\"evenodd\" fill-opacity=\"1\" /><path clip-path=\"url(#clip690)\" d=\"M1816.04 1247.73 L1816.04 1249.82 L1796.46 1249.82 Q1796.74 1254.22 1799.1 1256.53 Q1801.48 1258.82 1805.72 1258.82 Q1808.17 1258.82 1810.47 1258.22 Q1812.78 1257.62 1815.05 1256.41 L1815.05 1260.44 Q1812.76 1261.41 1810.35 1261.92 Q1807.94 1262.43 1805.47 1262.43 Q1799.26 1262.43 1795.63 1258.82 Q1792.02 1255.21 1792.02 1249.05 Q1792.02 1242.69 1795.44 1238.96 Q1798.89 1235.21 1804.72 1235.21 Q1809.96 1235.21 1812.99 1238.59 Q1816.04 1241.95 1816.04 1247.73 M1811.78 1246.48 Q1811.74 1242.99 1809.82 1240.91 Q1807.92 1238.82 1804.77 1238.82 Q1801.21 1238.82 1799.05 1240.84 Q1796.92 1242.85 1796.6 1246.51 L1811.78 1246.48 Z\" fill=\"#000000\" fill-rule=\"evenodd\" fill-opacity=\"1\" /><path clip-path=\"url(#clip690)\" d=\"M1844.59 1246.11 L1844.59 1261.76 L1840.33 1261.76 L1840.33 1246.25 Q1840.33 1242.57 1838.89 1240.74 Q1837.46 1238.91 1834.59 1238.91 Q1831.14 1238.91 1829.15 1241.11 Q1827.16 1243.31 1827.16 1247.11 L1827.16 1261.76 L1822.87 1261.76 L1822.87 1235.84 L1827.16 1235.84 L1827.16 1239.86 Q1828.68 1237.53 1830.74 1236.37 Q1832.83 1235.21 1835.53 1235.21 Q1840 1235.21 1842.29 1237.99 Q1844.59 1240.74 1844.59 1246.11 Z\" fill=\"#000000\" fill-rule=\"evenodd\" fill-opacity=\"1\" /><path clip-path=\"url(#clip690)\" d=\"M1869.61 1236.6 L1869.61 1240.63 Q1867.8 1239.7 1865.86 1239.24 Q1863.91 1238.78 1861.83 1238.78 Q1858.66 1238.78 1857.06 1239.75 Q1855.49 1240.72 1855.49 1242.66 Q1855.49 1244.15 1856.62 1245 Q1857.76 1245.84 1861.18 1246.6 L1862.64 1246.92 Q1867.18 1247.9 1869.08 1249.68 Q1871 1251.44 1871 1254.61 Q1871 1258.22 1868.13 1260.33 Q1865.28 1262.43 1860.28 1262.43 Q1858.2 1262.43 1855.93 1262.02 Q1853.68 1261.62 1851.18 1260.81 L1851.18 1256.41 Q1853.54 1257.64 1855.84 1258.27 Q1858.13 1258.87 1860.37 1258.87 Q1863.38 1258.87 1865 1257.85 Q1866.62 1256.81 1866.62 1254.93 Q1866.62 1253.2 1865.44 1252.27 Q1864.28 1251.34 1860.33 1250.49 L1858.84 1250.14 Q1854.89 1249.31 1853.13 1247.59 Q1851.37 1245.86 1851.37 1242.85 Q1851.37 1239.19 1853.96 1237.2 Q1856.55 1235.21 1861.32 1235.21 Q1863.68 1235.21 1865.77 1235.56 Q1867.85 1235.91 1869.61 1236.6 Z\" fill=\"#000000\" fill-rule=\"evenodd\" fill-opacity=\"1\" /><path clip-path=\"url(#clip690)\" d=\"M1877.78 1235.84 L1882.04 1235.84 L1882.04 1261.76 L1877.78 1261.76 L1877.78 1235.84 M1877.78 1225.74 L1882.04 1225.74 L1882.04 1231.14 L1877.78 1231.14 L1877.78 1225.74 Z\" fill=\"#000000\" fill-rule=\"evenodd\" fill-opacity=\"1\" /><path clip-path=\"url(#clip690)\" d=\"M1895.16 1228.47 L1895.16 1235.84 L1903.94 1235.84 L1903.94 1239.15 L1895.16 1239.15 L1895.16 1253.22 Q1895.16 1256.39 1896.02 1257.29 Q1896.9 1258.2 1899.56 1258.2 L1903.94 1258.2 L1903.94 1261.76 L1899.56 1261.76 Q1894.63 1261.76 1892.76 1259.93 Q1890.88 1258.08 1890.88 1253.22 L1890.88 1239.15 L1887.76 1239.15 L1887.76 1235.84 L1890.88 1235.84 L1890.88 1228.47 L1895.16 1228.47 Z\" fill=\"#000000\" fill-rule=\"evenodd\" fill-opacity=\"1\" /><path clip-path=\"url(#clip690)\" d=\"M1920.33 1264.17 Q1918.52 1268.8 1916.81 1270.21 Q1915.09 1271.62 1912.22 1271.62 L1908.82 1271.62 L1908.82 1268.06 L1911.32 1268.06 Q1913.08 1268.06 1914.05 1267.22 Q1915.03 1266.39 1916.21 1263.29 L1916.97 1261.34 L1906.48 1235.84 L1911 1235.84 L1919.1 1256.11 L1927.2 1235.84 L1931.71 1235.84 L1920.33 1264.17 Z\" fill=\"#000000\" fill-rule=\"evenodd\" fill-opacity=\"1\" /><path clip-path=\"url(#clip690)\" d=\"M1962.9 1225.79 Q1959.79 1231.11 1958.29 1236.32 Q1956.78 1241.53 1956.78 1246.88 Q1956.78 1252.22 1958.29 1257.48 Q1959.82 1262.71 1962.9 1268.01 L1959.19 1268.01 Q1955.72 1262.57 1953.98 1257.32 Q1952.27 1252.06 1952.27 1246.88 Q1952.27 1241.72 1953.98 1236.48 Q1955.7 1231.25 1959.19 1225.79 L1962.9 1225.79 Z\" fill=\"#000000\" fill-rule=\"evenodd\" fill-opacity=\"1\" /><path clip-path=\"url(#clip690)\" d=\"M1971.34 1227.2 L1976.02 1227.2 L1976.02 1261.76 L1971.34 1261.76 L1971.34 1227.2 Z\" fill=\"#000000\" fill-rule=\"evenodd\" fill-opacity=\"1\" /><path clip-path=\"url(#clip690)\" d=\"M1984.47 1225.79 L1988.17 1225.79 Q1991.65 1231.25 1993.36 1236.48 Q1995.09 1241.72 1995.09 1246.88 Q1995.09 1252.06 1993.36 1257.32 Q1991.65 1262.57 1988.17 1268.01 L1984.47 1268.01 Q1987.55 1262.71 1989.05 1257.48 Q1990.58 1252.22 1990.58 1246.88 Q1990.58 1241.53 1989.05 1236.32 Q1987.55 1231.11 1984.47 1225.79 Z\" fill=\"#000000\" fill-rule=\"evenodd\" fill-opacity=\"1\" /><polyline clip-path=\"url(#clip690)\" style=\"stroke:#ff0000; stroke-linecap:butt; stroke-linejoin:round; stroke-width:4; stroke-opacity:1; fill:none\" stroke-dasharray=\"16, 10\" points=\"\n",
       "  1567.97,1304.96 1708.09,1304.96 \n",
       "  \"/>\n",
       "<path clip-path=\"url(#clip690)\" d=\"M1736.11 1291.52 L1736.11 1304.51 L1741.99 1304.51 Q1745.26 1304.51 1747.04 1302.82 Q1748.82 1301.13 1748.82 1298.01 Q1748.82 1294.9 1747.04 1293.21 Q1745.26 1291.52 1741.99 1291.52 L1736.11 1291.52 M1731.44 1287.68 L1741.99 1287.68 Q1747.8 1287.68 1750.77 1290.32 Q1753.75 1292.94 1753.75 1298.01 Q1753.75 1303.12 1750.77 1305.74 Q1747.8 1308.35 1741.99 1308.35 L1736.11 1308.35 L1736.11 1322.24 L1731.44 1322.24 L1731.44 1287.68 Z\" fill=\"#000000\" fill-rule=\"evenodd\" fill-opacity=\"1\" /><path clip-path=\"url(#clip690)\" d=\"M1779.54 1330.11 L1779.54 1333.42 L1754.91 1333.42 L1754.91 1330.11 L1779.54 1330.11 Z\" fill=\"#000000\" fill-rule=\"evenodd\" fill-opacity=\"1\" /><path clip-path=\"url(#clip690)\" d=\"M1793.59 1299.3 Q1790.16 1299.3 1788.17 1301.99 Q1786.18 1304.65 1786.18 1309.3 Q1786.18 1313.95 1788.15 1316.64 Q1790.14 1319.3 1793.59 1319.3 Q1796.99 1319.3 1798.98 1316.62 Q1800.97 1313.93 1800.97 1309.3 Q1800.97 1304.7 1798.98 1302.01 Q1796.99 1299.3 1793.59 1299.3 M1793.59 1295.69 Q1799.15 1295.69 1802.32 1299.3 Q1805.49 1302.91 1805.49 1309.3 Q1805.49 1315.67 1802.32 1319.3 Q1799.15 1322.91 1793.59 1322.91 Q1788.01 1322.91 1784.84 1319.3 Q1781.69 1315.67 1781.69 1309.3 Q1781.69 1302.91 1784.84 1299.3 Q1788.01 1295.69 1793.59 1295.69 Z\" fill=\"#000000\" fill-rule=\"evenodd\" fill-opacity=\"1\" /><path clip-path=\"url(#clip690)\" d=\"M1816.67 1318.35 L1816.67 1332.1 L1812.39 1332.1 L1812.39 1296.32 L1816.67 1296.32 L1816.67 1300.25 Q1818.01 1297.94 1820.05 1296.83 Q1822.11 1295.69 1824.96 1295.69 Q1829.68 1295.69 1832.62 1299.44 Q1835.58 1303.19 1835.58 1309.3 Q1835.58 1315.41 1832.62 1319.16 Q1829.68 1322.91 1824.96 1322.91 Q1822.11 1322.91 1820.05 1321.8 Q1818.01 1320.67 1816.67 1318.35 M1831.16 1309.3 Q1831.16 1304.6 1829.22 1301.94 Q1827.29 1299.26 1823.91 1299.26 Q1820.53 1299.26 1818.59 1301.94 Q1816.67 1304.6 1816.67 1309.3 Q1816.67 1314 1818.59 1316.69 Q1820.53 1319.35 1823.91 1319.35 Q1827.29 1319.35 1829.22 1316.69 Q1831.16 1314 1831.16 1309.3 Z\" fill=\"#000000\" fill-rule=\"evenodd\" fill-opacity=\"1\" /><path clip-path=\"url(#clip690)\" d=\"M1846.85 1288.95 L1846.85 1296.32 L1855.63 1296.32 L1855.63 1299.63 L1846.85 1299.63 L1846.85 1313.7 Q1846.85 1316.87 1847.71 1317.77 Q1848.59 1318.68 1851.25 1318.68 L1855.63 1318.68 L1855.63 1322.24 L1851.25 1322.24 Q1846.32 1322.24 1844.45 1320.41 Q1842.57 1318.56 1842.57 1313.7 L1842.57 1299.63 L1839.45 1299.63 L1839.45 1296.32 L1842.57 1296.32 L1842.57 1288.95 L1846.85 1288.95 Z\" fill=\"#000000\" fill-rule=\"evenodd\" fill-opacity=\"1\" /><path clip-path=\"url(#clip690)\" d=\"M1876.85 1300.71 L1906.53 1300.71 L1906.53 1304.6 L1876.85 1304.6 L1876.85 1300.71 M1876.85 1310.16 L1906.53 1310.16 L1906.53 1314.09 L1876.85 1314.09 L1876.85 1310.16 Z\" fill=\"#000000\" fill-rule=\"evenodd\" fill-opacity=\"1\" /><path clip-path=\"url(#clip690)\" d=\"M1932.5 1318.31 L1940.14 1318.31 L1940.14 1291.94 L1931.83 1293.61 L1931.83 1289.35 L1940.09 1287.68 L1944.77 1287.68 L1944.77 1318.31 L1952.41 1318.31 L1952.41 1322.24 L1932.5 1322.24 L1932.5 1318.31 Z\" fill=\"#000000\" fill-rule=\"evenodd\" fill-opacity=\"1\" /><path clip-path=\"url(#clip690)\" d=\"M1961.85 1316.36 L1966.74 1316.36 L1966.74 1322.24 L1961.85 1322.24 L1961.85 1316.36 Z\" fill=\"#000000\" fill-rule=\"evenodd\" fill-opacity=\"1\" /><path clip-path=\"url(#clip690)\" d=\"M1991.09 1303.61 Q1994.45 1304.32 1996.32 1306.59 Q1998.22 1308.86 1998.22 1312.2 Q1998.22 1317.31 1994.7 1320.11 Q1991.18 1322.91 1984.7 1322.91 Q1982.52 1322.91 1980.21 1322.47 Q1977.92 1322.06 1975.46 1321.2 L1975.46 1316.69 Q1977.41 1317.82 1979.72 1318.4 Q1982.04 1318.98 1984.56 1318.98 Q1988.96 1318.98 1991.25 1317.24 Q1993.57 1315.51 1993.57 1312.2 Q1993.57 1309.14 1991.41 1307.43 Q1989.28 1305.69 1985.46 1305.69 L1981.44 1305.69 L1981.44 1301.85 L1985.65 1301.85 Q1989.1 1301.85 1990.93 1300.48 Q1992.76 1299.09 1992.76 1296.5 Q1992.76 1293.84 1990.86 1292.43 Q1988.98 1290.99 1985.46 1290.99 Q1983.54 1290.99 1981.34 1291.41 Q1979.15 1291.83 1976.51 1292.7 L1976.51 1288.54 Q1979.17 1287.8 1981.48 1287.43 Q1983.82 1287.06 1985.88 1287.06 Q1991.21 1287.06 1994.31 1289.49 Q1997.41 1291.89 1997.41 1296.01 Q1997.41 1298.89 1995.77 1300.88 Q1994.12 1302.84 1991.09 1303.61 Z\" fill=\"#000000\" fill-rule=\"evenodd\" fill-opacity=\"1\" /><path clip-path=\"url(#clip690)\" d=\"M2021.25 1303.61 Q2024.61 1304.32 2026.48 1306.59 Q2028.38 1308.86 2028.38 1312.2 Q2028.38 1317.31 2024.86 1320.11 Q2021.34 1322.91 2014.86 1322.91 Q2012.69 1322.91 2010.37 1322.47 Q2008.08 1322.06 2005.63 1321.2 L2005.63 1316.69 Q2007.57 1317.82 2009.89 1318.4 Q2012.2 1318.98 2014.72 1318.98 Q2019.12 1318.98 2021.41 1317.24 Q2023.73 1315.51 2023.73 1312.2 Q2023.73 1309.14 2021.58 1307.43 Q2019.45 1305.69 2015.63 1305.69 L2011.6 1305.69 L2011.6 1301.85 L2015.81 1301.85 Q2019.26 1301.85 2021.09 1300.48 Q2022.92 1299.09 2022.92 1296.5 Q2022.92 1293.84 2021.02 1292.43 Q2019.14 1290.99 2015.63 1290.99 Q2013.71 1290.99 2011.51 1291.41 Q2009.31 1291.83 2006.67 1292.7 L2006.67 1288.54 Q2009.33 1287.8 2011.64 1287.43 Q2013.98 1287.06 2016.04 1287.06 Q2021.37 1287.06 2024.47 1289.49 Q2027.57 1291.89 2027.57 1296.01 Q2027.57 1298.89 2025.93 1300.88 Q2024.28 1302.84 2021.25 1303.61 Z\" fill=\"#000000\" fill-rule=\"evenodd\" fill-opacity=\"1\" /><path clip-path=\"url(#clip690)\" d=\"M2075.46 1317.31 L2075.46 1308.03 L2067.83 1308.03 L2067.83 1304.19 L2080.09 1304.19 L2080.09 1319.02 Q2077.39 1320.95 2074.12 1321.94 Q2070.86 1322.91 2067.15 1322.91 Q2059.05 1322.91 2054.47 1318.19 Q2049.91 1313.45 2049.91 1305 Q2049.91 1296.52 2054.47 1291.8 Q2059.05 1287.06 2067.15 1287.06 Q2070.53 1287.06 2073.57 1287.89 Q2076.62 1288.72 2079.19 1290.34 L2079.19 1295.32 Q2076.6 1293.12 2073.68 1292.01 Q2070.77 1290.9 2067.55 1290.9 Q2061.2 1290.9 2058.01 1294.44 Q2054.84 1297.98 2054.84 1305 Q2054.84 1311.99 2058.01 1315.53 Q2061.2 1319.07 2067.55 1319.07 Q2070.02 1319.07 2071.97 1318.65 Q2073.91 1318.21 2075.46 1317.31 Z\" fill=\"#000000\" fill-rule=\"evenodd\" fill-opacity=\"1\" /><path clip-path=\"url(#clip690)\" d=\"M2101.58 1286.22 L2101.58 1289.76 L2097.5 1289.76 Q2095.21 1289.76 2094.31 1290.69 Q2093.43 1291.62 2093.43 1294.02 L2093.43 1296.32 L2100.44 1296.32 L2100.44 1299.63 L2093.43 1299.63 L2093.43 1322.24 L2089.14 1322.24 L2089.14 1299.63 L2085.07 1299.63 L2085.07 1296.32 L2089.14 1296.32 L2089.14 1294.51 Q2089.14 1290.18 2091.16 1288.21 Q2093.17 1286.22 2097.55 1286.22 L2101.58 1286.22 Z\" fill=\"#000000\" fill-rule=\"evenodd\" fill-opacity=\"1\" /><path clip-path=\"url(#clip690)\" d=\"M2105.14 1286.22 L2109.4 1286.22 L2109.4 1322.24 L2105.14 1322.24 L2105.14 1286.22 Z\" fill=\"#000000\" fill-rule=\"evenodd\" fill-opacity=\"1\" /><path clip-path=\"url(#clip690)\" d=\"M2128.36 1299.3 Q2124.93 1299.3 2122.94 1301.99 Q2120.95 1304.65 2120.95 1309.3 Q2120.95 1313.95 2122.92 1316.64 Q2124.91 1319.3 2128.36 1319.3 Q2131.76 1319.3 2133.75 1316.62 Q2135.74 1313.93 2135.74 1309.3 Q2135.74 1304.7 2133.75 1302.01 Q2131.76 1299.3 2128.36 1299.3 M2128.36 1295.69 Q2133.91 1295.69 2137.08 1299.3 Q2140.26 1302.91 2140.26 1309.3 Q2140.26 1315.67 2137.08 1319.3 Q2133.91 1322.91 2128.36 1322.91 Q2122.78 1322.91 2119.61 1319.3 Q2116.46 1315.67 2116.46 1309.3 Q2116.46 1302.91 2119.61 1299.3 Q2122.78 1295.69 2128.36 1295.69 Z\" fill=\"#000000\" fill-rule=\"evenodd\" fill-opacity=\"1\" /><path clip-path=\"url(#clip690)\" d=\"M2151.44 1318.35 L2151.44 1332.1 L2147.15 1332.1 L2147.15 1296.32 L2151.44 1296.32 L2151.44 1300.25 Q2152.78 1297.94 2154.82 1296.83 Q2156.88 1295.69 2159.72 1295.69 Q2164.45 1295.69 2167.38 1299.44 Q2170.35 1303.19 2170.35 1309.3 Q2170.35 1315.41 2167.38 1319.16 Q2164.45 1322.91 2159.72 1322.91 Q2156.88 1322.91 2154.82 1321.8 Q2152.78 1320.67 2151.44 1318.35 M2165.93 1309.3 Q2165.93 1304.6 2163.98 1301.94 Q2162.06 1299.26 2158.68 1299.26 Q2155.3 1299.26 2153.36 1301.94 Q2151.44 1304.6 2151.44 1309.3 Q2151.44 1314 2153.36 1316.69 Q2155.3 1319.35 2158.68 1319.35 Q2162.06 1319.35 2163.98 1316.69 Q2165.93 1314 2165.93 1309.3 Z\" fill=\"#000000\" fill-rule=\"evenodd\" fill-opacity=\"1\" /><path clip-path=\"url(#clip690)\" d=\"M2193.94 1297.08 L2193.94 1301.11 Q2192.13 1300.18 2190.19 1299.72 Q2188.24 1299.26 2186.16 1299.26 Q2182.99 1299.26 2181.39 1300.23 Q2179.82 1301.2 2179.82 1303.14 Q2179.82 1304.63 2180.95 1305.48 Q2182.08 1306.32 2185.51 1307.08 L2186.97 1307.4 Q2191.51 1308.38 2193.4 1310.16 Q2195.32 1311.92 2195.32 1315.09 Q2195.32 1318.7 2192.45 1320.81 Q2189.61 1322.91 2184.61 1322.91 Q2182.52 1322.91 2180.26 1322.5 Q2178.01 1322.1 2175.51 1321.29 L2175.51 1316.89 Q2177.87 1318.12 2180.16 1318.75 Q2182.45 1319.35 2184.7 1319.35 Q2187.71 1319.35 2189.33 1318.33 Q2190.95 1317.29 2190.95 1315.41 Q2190.95 1313.68 2189.77 1312.75 Q2188.61 1311.82 2184.65 1310.97 L2183.17 1310.62 Q2179.21 1309.79 2177.45 1308.07 Q2175.7 1306.34 2175.7 1303.33 Q2175.7 1299.67 2178.29 1297.68 Q2180.88 1295.69 2185.65 1295.69 Q2188.01 1295.69 2190.09 1296.04 Q2192.18 1296.39 2193.94 1297.08 Z\" fill=\"#000000\" fill-rule=\"evenodd\" fill-opacity=\"1\" /><path clip-path=\"url(#clip690)\" d=\"M2209.68 1287.68 L2213.61 1287.68 L2201.57 1326.64 L2197.64 1326.64 L2209.68 1287.68 Z\" fill=\"#000000\" fill-rule=\"evenodd\" fill-opacity=\"1\" /><path clip-path=\"url(#clip690)\" d=\"M2234.61 1297.08 L2234.61 1301.11 Q2232.8 1300.18 2230.86 1299.72 Q2228.91 1299.26 2226.83 1299.26 Q2223.66 1299.26 2222.06 1300.23 Q2220.49 1301.2 2220.49 1303.14 Q2220.49 1304.63 2221.62 1305.48 Q2222.75 1306.32 2226.18 1307.08 L2227.64 1307.4 Q2232.18 1308.38 2234.07 1310.16 Q2236 1311.92 2236 1315.09 Q2236 1318.7 2233.13 1320.81 Q2230.28 1322.91 2225.28 1322.91 Q2223.19 1322.91 2220.93 1322.5 Q2218.68 1322.1 2216.18 1321.29 L2216.18 1316.89 Q2218.54 1318.12 2220.83 1318.75 Q2223.13 1319.35 2225.37 1319.35 Q2228.38 1319.35 2230 1318.33 Q2231.62 1317.29 2231.62 1315.41 Q2231.62 1313.68 2230.44 1312.75 Q2229.28 1311.82 2225.32 1310.97 L2223.84 1310.62 Q2219.88 1309.79 2218.13 1308.07 Q2216.37 1306.34 2216.37 1303.33 Q2216.37 1299.67 2218.96 1297.68 Q2221.55 1295.69 2226.32 1295.69 Q2228.68 1295.69 2230.76 1296.04 Q2232.85 1296.39 2234.61 1297.08 Z\" fill=\"#000000\" fill-rule=\"evenodd\" fill-opacity=\"1\" /></svg>\n"
      ]
     },
     "execution_count": 18,
     "metadata": {},
     "output_type": "execute_result"
    }
   ],
   "source": [
    "using Plots\n",
    "# memory bound\n",
    "plot(x->bs*x, label=\"Memory bound (I*bs)\", frame=:box, color=:blue, xlim=(1e-5,P_peak/bs), lw=2, xscale=:log10, yscale=:log10, legend=:bottomright)\n",
    "plot!(x->bs*x, label=\"\", frame=:box, color=:blue, xlim=(P_peak/bs,1e4), linestyle=:dash, lw=2)\n",
    "\n",
    "# cpu bound\n",
    "plot!([P_peak / bs,1e8],[P_peak, P_peak], label=\"CPU bound (P_peak)\", color=:green, lw=2)\n",
    "plot!([1e-5,P_peak / bs],[P_peak, P_peak], label=\"\", color=:green, lw=2, ls=:dash)\n",
    "\n",
    "# intensity (our vecmul!)\n",
    "plot!([I,I],[10^(-3.5),I*bs], label=\"Intensity (I)\", color=:red, lw=2)\n",
    "# vline!([I], label=\"Intensity (I)\", color=:red, lw=2)\n",
    "\n",
    "# max memory bound performance\n",
    "plot!([1e-5,I],[I*bs,I*bs], label=\"P_opt = $(round(I*bs, digits=2)) Gflops/s\", color=:red, lw=2, ls=:dash)\n",
    "\n",
    "# ylims!(0,400)\n",
    "xlims!(1e-5,1e8)\n",
    "xlabel!(\"Intensity [flops/B]\")\n",
    "ylabel!(\"Performance [Gflops/s]\")"
   ]
  },
  {
   "cell_type": "markdown",
   "metadata": {},
   "source": [
    "According to expectation, our kernel computation is clearly memory bound."
   ]
  },
  {
   "cell_type": "code",
   "execution_count": 19,
   "metadata": {},
   "outputs": [
    {
     "data": {
      "text/plain": [
       "0.8908508724548021"
      ]
     },
     "execution_count": 19,
     "metadata": {},
     "output_type": "execute_result"
    }
   ],
   "source": [
    "# ratio\n",
    "perf*1e-3/(I*bs)"
   ]
  },
  {
   "cell_type": "markdown",
   "metadata": {},
   "source": [
    "Our best code above almost reaches the memory bound estimate."
   ]
  }
 ],
 "metadata": {
  "@webio": {
   "lastCommId": null,
   "lastKernelId": null
  },
  "kernelspec": {
   "display_name": "Julia 1.6.1",
   "language": "julia",
   "name": "julia-1.6"
  },
  "language_info": {
   "file_extension": ".jl",
   "mimetype": "application/julia",
   "name": "julia",
   "version": "1.6.1"
  }
 },
 "nbformat": 4,
 "nbformat_minor": 4
}
